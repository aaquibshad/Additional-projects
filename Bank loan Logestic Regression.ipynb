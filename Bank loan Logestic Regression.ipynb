{
 "cells": [
  {
   "cell_type": "code",
   "execution_count": 1,
   "id": "29b7ee34",
   "metadata": {},
   "outputs": [],
   "source": [
    "import pandas as pd\n",
    "import numpy as np"
   ]
  },
  {
   "cell_type": "code",
   "execution_count": 2,
   "id": "f4a612d3",
   "metadata": {},
   "outputs": [
    {
     "data": {
      "text/html": [
       "<div>\n",
       "<style scoped>\n",
       "    .dataframe tbody tr th:only-of-type {\n",
       "        vertical-align: middle;\n",
       "    }\n",
       "\n",
       "    .dataframe tbody tr th {\n",
       "        vertical-align: top;\n",
       "    }\n",
       "\n",
       "    .dataframe thead th {\n",
       "        text-align: right;\n",
       "    }\n",
       "</style>\n",
       "<table border=\"1\" class=\"dataframe\">\n",
       "  <thead>\n",
       "    <tr style=\"text-align: right;\">\n",
       "      <th></th>\n",
       "      <th>ID</th>\n",
       "      <th>Age</th>\n",
       "      <th>Experience</th>\n",
       "      <th>Income</th>\n",
       "      <th>ZIP Code</th>\n",
       "      <th>Family</th>\n",
       "      <th>CCAvg</th>\n",
       "      <th>Education</th>\n",
       "      <th>Mortgage</th>\n",
       "      <th>Personal Loan</th>\n",
       "      <th>Securities Account</th>\n",
       "      <th>CD Account</th>\n",
       "      <th>Online</th>\n",
       "      <th>CreditCard</th>\n",
       "    </tr>\n",
       "  </thead>\n",
       "  <tbody>\n",
       "    <tr>\n",
       "      <th>0</th>\n",
       "      <td>1</td>\n",
       "      <td>25</td>\n",
       "      <td>1</td>\n",
       "      <td>49</td>\n",
       "      <td>91107</td>\n",
       "      <td>4</td>\n",
       "      <td>1.6</td>\n",
       "      <td>1</td>\n",
       "      <td>0</td>\n",
       "      <td>0</td>\n",
       "      <td>1</td>\n",
       "      <td>0</td>\n",
       "      <td>0</td>\n",
       "      <td>0</td>\n",
       "    </tr>\n",
       "    <tr>\n",
       "      <th>1</th>\n",
       "      <td>2</td>\n",
       "      <td>45</td>\n",
       "      <td>19</td>\n",
       "      <td>34</td>\n",
       "      <td>90089</td>\n",
       "      <td>3</td>\n",
       "      <td>1.5</td>\n",
       "      <td>1</td>\n",
       "      <td>0</td>\n",
       "      <td>0</td>\n",
       "      <td>1</td>\n",
       "      <td>0</td>\n",
       "      <td>0</td>\n",
       "      <td>0</td>\n",
       "    </tr>\n",
       "    <tr>\n",
       "      <th>2</th>\n",
       "      <td>3</td>\n",
       "      <td>39</td>\n",
       "      <td>15</td>\n",
       "      <td>11</td>\n",
       "      <td>94720</td>\n",
       "      <td>1</td>\n",
       "      <td>1.0</td>\n",
       "      <td>1</td>\n",
       "      <td>0</td>\n",
       "      <td>0</td>\n",
       "      <td>0</td>\n",
       "      <td>0</td>\n",
       "      <td>0</td>\n",
       "      <td>0</td>\n",
       "    </tr>\n",
       "    <tr>\n",
       "      <th>3</th>\n",
       "      <td>4</td>\n",
       "      <td>35</td>\n",
       "      <td>9</td>\n",
       "      <td>100</td>\n",
       "      <td>94112</td>\n",
       "      <td>1</td>\n",
       "      <td>2.7</td>\n",
       "      <td>2</td>\n",
       "      <td>0</td>\n",
       "      <td>0</td>\n",
       "      <td>0</td>\n",
       "      <td>0</td>\n",
       "      <td>0</td>\n",
       "      <td>0</td>\n",
       "    </tr>\n",
       "    <tr>\n",
       "      <th>4</th>\n",
       "      <td>5</td>\n",
       "      <td>35</td>\n",
       "      <td>8</td>\n",
       "      <td>45</td>\n",
       "      <td>91330</td>\n",
       "      <td>4</td>\n",
       "      <td>1.0</td>\n",
       "      <td>2</td>\n",
       "      <td>0</td>\n",
       "      <td>0</td>\n",
       "      <td>0</td>\n",
       "      <td>0</td>\n",
       "      <td>0</td>\n",
       "      <td>1</td>\n",
       "    </tr>\n",
       "    <tr>\n",
       "      <th>...</th>\n",
       "      <td>...</td>\n",
       "      <td>...</td>\n",
       "      <td>...</td>\n",
       "      <td>...</td>\n",
       "      <td>...</td>\n",
       "      <td>...</td>\n",
       "      <td>...</td>\n",
       "      <td>...</td>\n",
       "      <td>...</td>\n",
       "      <td>...</td>\n",
       "      <td>...</td>\n",
       "      <td>...</td>\n",
       "      <td>...</td>\n",
       "      <td>...</td>\n",
       "    </tr>\n",
       "    <tr>\n",
       "      <th>4995</th>\n",
       "      <td>4996</td>\n",
       "      <td>29</td>\n",
       "      <td>3</td>\n",
       "      <td>40</td>\n",
       "      <td>92697</td>\n",
       "      <td>1</td>\n",
       "      <td>1.9</td>\n",
       "      <td>3</td>\n",
       "      <td>0</td>\n",
       "      <td>0</td>\n",
       "      <td>0</td>\n",
       "      <td>0</td>\n",
       "      <td>1</td>\n",
       "      <td>0</td>\n",
       "    </tr>\n",
       "    <tr>\n",
       "      <th>4996</th>\n",
       "      <td>4997</td>\n",
       "      <td>30</td>\n",
       "      <td>4</td>\n",
       "      <td>15</td>\n",
       "      <td>92037</td>\n",
       "      <td>4</td>\n",
       "      <td>0.4</td>\n",
       "      <td>1</td>\n",
       "      <td>85</td>\n",
       "      <td>0</td>\n",
       "      <td>0</td>\n",
       "      <td>0</td>\n",
       "      <td>1</td>\n",
       "      <td>0</td>\n",
       "    </tr>\n",
       "    <tr>\n",
       "      <th>4997</th>\n",
       "      <td>4998</td>\n",
       "      <td>63</td>\n",
       "      <td>39</td>\n",
       "      <td>24</td>\n",
       "      <td>93023</td>\n",
       "      <td>2</td>\n",
       "      <td>0.3</td>\n",
       "      <td>3</td>\n",
       "      <td>0</td>\n",
       "      <td>0</td>\n",
       "      <td>0</td>\n",
       "      <td>0</td>\n",
       "      <td>0</td>\n",
       "      <td>0</td>\n",
       "    </tr>\n",
       "    <tr>\n",
       "      <th>4998</th>\n",
       "      <td>4999</td>\n",
       "      <td>65</td>\n",
       "      <td>40</td>\n",
       "      <td>49</td>\n",
       "      <td>90034</td>\n",
       "      <td>3</td>\n",
       "      <td>0.5</td>\n",
       "      <td>2</td>\n",
       "      <td>0</td>\n",
       "      <td>0</td>\n",
       "      <td>0</td>\n",
       "      <td>0</td>\n",
       "      <td>1</td>\n",
       "      <td>0</td>\n",
       "    </tr>\n",
       "    <tr>\n",
       "      <th>4999</th>\n",
       "      <td>5000</td>\n",
       "      <td>28</td>\n",
       "      <td>4</td>\n",
       "      <td>83</td>\n",
       "      <td>92612</td>\n",
       "      <td>3</td>\n",
       "      <td>0.8</td>\n",
       "      <td>1</td>\n",
       "      <td>0</td>\n",
       "      <td>0</td>\n",
       "      <td>0</td>\n",
       "      <td>0</td>\n",
       "      <td>1</td>\n",
       "      <td>1</td>\n",
       "    </tr>\n",
       "  </tbody>\n",
       "</table>\n",
       "<p>5000 rows × 14 columns</p>\n",
       "</div>"
      ],
      "text/plain": [
       "        ID  Age  Experience  Income  ZIP Code  Family  CCAvg  Education  \\\n",
       "0        1   25           1      49     91107       4    1.6          1   \n",
       "1        2   45          19      34     90089       3    1.5          1   \n",
       "2        3   39          15      11     94720       1    1.0          1   \n",
       "3        4   35           9     100     94112       1    2.7          2   \n",
       "4        5   35           8      45     91330       4    1.0          2   \n",
       "...    ...  ...         ...     ...       ...     ...    ...        ...   \n",
       "4995  4996   29           3      40     92697       1    1.9          3   \n",
       "4996  4997   30           4      15     92037       4    0.4          1   \n",
       "4997  4998   63          39      24     93023       2    0.3          3   \n",
       "4998  4999   65          40      49     90034       3    0.5          2   \n",
       "4999  5000   28           4      83     92612       3    0.8          1   \n",
       "\n",
       "      Mortgage  Personal Loan  Securities Account  CD Account  Online  \\\n",
       "0            0              0                   1           0       0   \n",
       "1            0              0                   1           0       0   \n",
       "2            0              0                   0           0       0   \n",
       "3            0              0                   0           0       0   \n",
       "4            0              0                   0           0       0   \n",
       "...        ...            ...                 ...         ...     ...   \n",
       "4995         0              0                   0           0       1   \n",
       "4996        85              0                   0           0       1   \n",
       "4997         0              0                   0           0       0   \n",
       "4998         0              0                   0           0       1   \n",
       "4999         0              0                   0           0       1   \n",
       "\n",
       "      CreditCard  \n",
       "0              0  \n",
       "1              0  \n",
       "2              0  \n",
       "3              0  \n",
       "4              1  \n",
       "...          ...  \n",
       "4995           0  \n",
       "4996           0  \n",
       "4997           0  \n",
       "4998           0  \n",
       "4999           1  \n",
       "\n",
       "[5000 rows x 14 columns]"
      ]
     },
     "execution_count": 2,
     "metadata": {},
     "output_type": "execute_result"
    }
   ],
   "source": [
    "df=pd.read_csv('Bank_Personal_Loan_Modelling.csv')\n",
    "df"
   ]
  },
  {
   "cell_type": "code",
   "execution_count": 3,
   "id": "14e4a737",
   "metadata": {},
   "outputs": [
    {
     "data": {
      "text/html": [
       "<div>\n",
       "<style scoped>\n",
       "    .dataframe tbody tr th:only-of-type {\n",
       "        vertical-align: middle;\n",
       "    }\n",
       "\n",
       "    .dataframe tbody tr th {\n",
       "        vertical-align: top;\n",
       "    }\n",
       "\n",
       "    .dataframe thead th {\n",
       "        text-align: right;\n",
       "    }\n",
       "</style>\n",
       "<table border=\"1\" class=\"dataframe\">\n",
       "  <thead>\n",
       "    <tr style=\"text-align: right;\">\n",
       "      <th></th>\n",
       "      <th>ID</th>\n",
       "      <th>Age</th>\n",
       "      <th>Experience</th>\n",
       "      <th>Income</th>\n",
       "      <th>ZIP Code</th>\n",
       "      <th>Family</th>\n",
       "      <th>CCAvg</th>\n",
       "      <th>Education</th>\n",
       "      <th>Mortgage</th>\n",
       "      <th>Personal Loan</th>\n",
       "      <th>Securities Account</th>\n",
       "      <th>CD Account</th>\n",
       "      <th>Online</th>\n",
       "      <th>CreditCard</th>\n",
       "    </tr>\n",
       "  </thead>\n",
       "  <tbody>\n",
       "    <tr>\n",
       "      <th>0</th>\n",
       "      <td>1</td>\n",
       "      <td>25</td>\n",
       "      <td>1</td>\n",
       "      <td>49</td>\n",
       "      <td>91107</td>\n",
       "      <td>4</td>\n",
       "      <td>1.6</td>\n",
       "      <td>1</td>\n",
       "      <td>0</td>\n",
       "      <td>0</td>\n",
       "      <td>1</td>\n",
       "      <td>0</td>\n",
       "      <td>0</td>\n",
       "      <td>0</td>\n",
       "    </tr>\n",
       "    <tr>\n",
       "      <th>1</th>\n",
       "      <td>2</td>\n",
       "      <td>45</td>\n",
       "      <td>19</td>\n",
       "      <td>34</td>\n",
       "      <td>90089</td>\n",
       "      <td>3</td>\n",
       "      <td>1.5</td>\n",
       "      <td>1</td>\n",
       "      <td>0</td>\n",
       "      <td>0</td>\n",
       "      <td>1</td>\n",
       "      <td>0</td>\n",
       "      <td>0</td>\n",
       "      <td>0</td>\n",
       "    </tr>\n",
       "    <tr>\n",
       "      <th>2</th>\n",
       "      <td>3</td>\n",
       "      <td>39</td>\n",
       "      <td>15</td>\n",
       "      <td>11</td>\n",
       "      <td>94720</td>\n",
       "      <td>1</td>\n",
       "      <td>1.0</td>\n",
       "      <td>1</td>\n",
       "      <td>0</td>\n",
       "      <td>0</td>\n",
       "      <td>0</td>\n",
       "      <td>0</td>\n",
       "      <td>0</td>\n",
       "      <td>0</td>\n",
       "    </tr>\n",
       "    <tr>\n",
       "      <th>3</th>\n",
       "      <td>4</td>\n",
       "      <td>35</td>\n",
       "      <td>9</td>\n",
       "      <td>100</td>\n",
       "      <td>94112</td>\n",
       "      <td>1</td>\n",
       "      <td>2.7</td>\n",
       "      <td>2</td>\n",
       "      <td>0</td>\n",
       "      <td>0</td>\n",
       "      <td>0</td>\n",
       "      <td>0</td>\n",
       "      <td>0</td>\n",
       "      <td>0</td>\n",
       "    </tr>\n",
       "    <tr>\n",
       "      <th>4</th>\n",
       "      <td>5</td>\n",
       "      <td>35</td>\n",
       "      <td>8</td>\n",
       "      <td>45</td>\n",
       "      <td>91330</td>\n",
       "      <td>4</td>\n",
       "      <td>1.0</td>\n",
       "      <td>2</td>\n",
       "      <td>0</td>\n",
       "      <td>0</td>\n",
       "      <td>0</td>\n",
       "      <td>0</td>\n",
       "      <td>0</td>\n",
       "      <td>1</td>\n",
       "    </tr>\n",
       "  </tbody>\n",
       "</table>\n",
       "</div>"
      ],
      "text/plain": [
       "   ID  Age  Experience  Income  ZIP Code  Family  CCAvg  Education  Mortgage  \\\n",
       "0   1   25           1      49     91107       4    1.6          1         0   \n",
       "1   2   45          19      34     90089       3    1.5          1         0   \n",
       "2   3   39          15      11     94720       1    1.0          1         0   \n",
       "3   4   35           9     100     94112       1    2.7          2         0   \n",
       "4   5   35           8      45     91330       4    1.0          2         0   \n",
       "\n",
       "   Personal Loan  Securities Account  CD Account  Online  CreditCard  \n",
       "0              0                   1           0       0           0  \n",
       "1              0                   1           0       0           0  \n",
       "2              0                   0           0       0           0  \n",
       "3              0                   0           0       0           0  \n",
       "4              0                   0           0       0           1  "
      ]
     },
     "execution_count": 3,
     "metadata": {},
     "output_type": "execute_result"
    }
   ],
   "source": [
    "df.head()"
   ]
  },
  {
   "cell_type": "code",
   "execution_count": 4,
   "id": "12fba4b0",
   "metadata": {},
   "outputs": [
    {
     "name": "stdout",
     "output_type": "stream",
     "text": [
      "<class 'pandas.core.frame.DataFrame'>\n",
      "RangeIndex: 5000 entries, 0 to 4999\n",
      "Data columns (total 14 columns):\n",
      " #   Column              Non-Null Count  Dtype  \n",
      "---  ------              --------------  -----  \n",
      " 0   ID                  5000 non-null   int64  \n",
      " 1   Age                 5000 non-null   int64  \n",
      " 2   Experience          5000 non-null   int64  \n",
      " 3   Income              5000 non-null   int64  \n",
      " 4   ZIP Code            5000 non-null   int64  \n",
      " 5   Family              5000 non-null   int64  \n",
      " 6   CCAvg               5000 non-null   float64\n",
      " 7   Education           5000 non-null   int64  \n",
      " 8   Mortgage            5000 non-null   int64  \n",
      " 9   Personal Loan       5000 non-null   int64  \n",
      " 10  Securities Account  5000 non-null   int64  \n",
      " 11  CD Account          5000 non-null   int64  \n",
      " 12  Online              5000 non-null   int64  \n",
      " 13  CreditCard          5000 non-null   int64  \n",
      "dtypes: float64(1), int64(13)\n",
      "memory usage: 547.0 KB\n"
     ]
    }
   ],
   "source": [
    "df.info()"
   ]
  },
  {
   "cell_type": "code",
   "execution_count": 5,
   "id": "148d62b9",
   "metadata": {},
   "outputs": [
    {
     "data": {
      "text/plain": [
       "ID                    0.0\n",
       "Age                   0.0\n",
       "Experience            0.0\n",
       "Income                0.0\n",
       "ZIP Code              0.0\n",
       "Family                0.0\n",
       "CCAvg                 0.0\n",
       "Education             0.0\n",
       "Mortgage              0.0\n",
       "Personal Loan         0.0\n",
       "Securities Account    0.0\n",
       "CD Account            0.0\n",
       "Online                0.0\n",
       "CreditCard            0.0\n",
       "dtype: float64"
      ]
     },
     "execution_count": 5,
     "metadata": {},
     "output_type": "execute_result"
    }
   ],
   "source": [
    "pd.set_option('display.max_rows()',None)\n",
    "df.isnull().sum()*100/len(df)"
   ]
  },
  {
   "cell_type": "code",
   "execution_count": 6,
   "id": "54419699",
   "metadata": {},
   "outputs": [
    {
     "data": {
      "text/plain": [
       "Index(['ID', 'Age', 'Experience', 'Income', 'ZIP Code', 'Family', 'CCAvg',\n",
       "       'Education', 'Mortgage', 'Personal Loan', 'Securities Account',\n",
       "       'CD Account', 'Online', 'CreditCard'],\n",
       "      dtype='object')"
      ]
     },
     "execution_count": 6,
     "metadata": {},
     "output_type": "execute_result"
    }
   ],
   "source": [
    "df.columns"
   ]
  },
  {
   "cell_type": "code",
   "execution_count": 7,
   "id": "5df53d98",
   "metadata": {},
   "outputs": [],
   "source": [
    "df=df.rename({'ZIP Code':'ZIP_Code','Personal Loan':'Personal_Loan','Securities Account':'Securities_Account','CD Account':'CD_Account'},axis=1)"
   ]
  },
  {
   "cell_type": "code",
   "execution_count": 8,
   "id": "3a938c1b",
   "metadata": {},
   "outputs": [
    {
     "data": {
      "text/plain": [
       "Index(['ID', 'Age', 'Experience', 'Income', 'ZIP_Code', 'Family', 'CCAvg',\n",
       "       'Education', 'Mortgage', 'Personal_Loan', 'Securities_Account',\n",
       "       'CD_Account', 'Online', 'CreditCard'],\n",
       "      dtype='object')"
      ]
     },
     "execution_count": 8,
     "metadata": {},
     "output_type": "execute_result"
    }
   ],
   "source": [
    "df.columns"
   ]
  },
  {
   "cell_type": "markdown",
   "id": "7a521702",
   "metadata": {},
   "source": [
    "# Personal_Loan"
   ]
  },
  {
   "cell_type": "code",
   "execution_count": 9,
   "id": "72440492",
   "metadata": {},
   "outputs": [
    {
     "data": {
      "text/plain": [
       "0    4520\n",
       "1     480\n",
       "Name: Personal_Loan, dtype: int64"
      ]
     },
     "execution_count": 9,
     "metadata": {},
     "output_type": "execute_result"
    }
   ],
   "source": [
    "df.Personal_Loan.value_counts()"
   ]
  },
  {
   "cell_type": "code",
   "execution_count": 10,
   "id": "8a4fa6d6",
   "metadata": {},
   "outputs": [
    {
     "name": "stderr",
     "output_type": "stream",
     "text": [
      "C:\\Users\\Siddiq\\anaconda3\\lib\\site-packages\\seaborn\\_decorators.py:36: FutureWarning: Pass the following variable as a keyword arg: x. From version 0.12, the only valid positional argument will be `data`, and passing other arguments without an explicit keyword will result in an error or misinterpretation.\n",
      "  warnings.warn(\n"
     ]
    },
    {
     "data": {
      "text/plain": [
       "<AxesSubplot:xlabel='Personal_Loan', ylabel='count'>"
      ]
     },
     "execution_count": 10,
     "metadata": {},
     "output_type": "execute_result"
    },
    {
     "data": {
      "image/png": "[encoded data removed]",
      "text/plain": [
       "<Figure size 432x288 with 1 Axes>"
      ]
     },
     "metadata": {
      "needs_background": "light"
     },
     "output_type": "display_data"
    }
   ],
   "source": [
    "import seaborn as sns\n",
    "sns.countplot(df.Personal_Loan)"
   ]
  },
  {
   "cell_type": "code",
   "execution_count": 11,
   "id": "95ec3064",
   "metadata": {},
   "outputs": [],
   "source": [
    "df.drop('ID',axis=1,inplace=True)"
   ]
  },
  {
   "cell_type": "code",
   "execution_count": 12,
   "id": "7f44b260",
   "metadata": {},
   "outputs": [
    {
     "data": {
      "text/plain": [
       "Index(['Age', 'Experience', 'Income', 'ZIP_Code', 'Family', 'CCAvg',\n",
       "       'Education', 'Mortgage', 'Personal_Loan', 'Securities_Account',\n",
       "       'CD_Account', 'Online', 'CreditCard'],\n",
       "      dtype='object')"
      ]
     },
     "execution_count": 12,
     "metadata": {},
     "output_type": "execute_result"
    }
   ],
   "source": [
    "df.columns"
   ]
  },
  {
   "cell_type": "markdown",
   "id": "fde0d0e9",
   "metadata": {},
   "source": [
    "# Age"
   ]
  },
  {
   "cell_type": "code",
   "execution_count": 13,
   "id": "fc6fc571",
   "metadata": {},
   "outputs": [
    {
     "data": {
      "text/plain": [
       "35    151\n",
       "43    149\n",
       "52    145\n",
       "54    143\n",
       "58    143\n",
       "50    138\n",
       "41    136\n",
       "30    136\n",
       "56    135\n",
       "34    134\n",
       "39    133\n",
       "57    132\n",
       "59    132\n",
       "51    129\n",
       "45    127\n",
       "60    127\n",
       "46    127\n",
       "42    126\n",
       "31    125\n",
       "40    125\n",
       "55    125\n",
       "29    123\n",
       "62    123\n",
       "61    122\n",
       "44    121\n",
       "32    120\n",
       "33    120\n",
       "48    118\n",
       "38    115\n",
       "49    115\n",
       "47    113\n",
       "53    112\n",
       "63    108\n",
       "36    107\n",
       "37    106\n",
       "28    103\n",
       "27     91\n",
       "65     80\n",
       "64     78\n",
       "26     78\n",
       "25     53\n",
       "24     28\n",
       "66     24\n",
       "67     12\n",
       "23     12\n",
       "Name: Age, dtype: int64"
      ]
     },
     "execution_count": 13,
     "metadata": {},
     "output_type": "execute_result"
    }
   ],
   "source": [
    "df.Age.value_counts()"
   ]
  },
  {
   "cell_type": "code",
   "execution_count": 14,
   "id": "abedda5f",
   "metadata": {},
   "outputs": [
    {
     "name": "stdout",
     "output_type": "stream",
     "text": [
      "              df      sum_sq   mean_sq         F    PR(>F)\n",
      "Age          1.0    0.025899  0.025899  0.298324  0.584959\n",
      "Residual  4998.0  433.894101  0.086814       NaN       NaN\n"
     ]
    }
   ],
   "source": [
    "import statsmodels.api as sm\n",
    "from statsmodels.formula.api import ols\n",
    "mod=ols('Personal_Loan~Age',data=df).fit()\n",
    "anov=sm.stats.anova_lm(mod)\n",
    "print(anov)"
   ]
  },
  {
   "cell_type": "code",
   "execution_count": 15,
   "id": "3c8eb61e",
   "metadata": {},
   "outputs": [],
   "source": [
    "df.drop('Age',axis=1,inplace=True)"
   ]
  },
  {
   "cell_type": "code",
   "execution_count": 16,
   "id": "5f2dc7c3",
   "metadata": {},
   "outputs": [
    {
     "data": {
      "text/plain": [
       "Index(['Experience', 'Income', 'ZIP_Code', 'Family', 'CCAvg', 'Education',\n",
       "       'Mortgage', 'Personal_Loan', 'Securities_Account', 'CD_Account',\n",
       "       'Online', 'CreditCard'],\n",
       "      dtype='object')"
      ]
     },
     "execution_count": 16,
     "metadata": {},
     "output_type": "execute_result"
    }
   ],
   "source": [
    "df.columns"
   ]
  },
  {
   "cell_type": "markdown",
   "id": "74753e6f",
   "metadata": {},
   "source": [
    "# Experience"
   ]
  },
  {
   "cell_type": "code",
   "execution_count": 17,
   "id": "58117fb8",
   "metadata": {},
   "outputs": [
    {
     "data": {
      "text/plain": [
       " 32    154\n",
       " 20    148\n",
       " 9     147\n",
       " 5     146\n",
       " 23    144\n",
       " 35    143\n",
       " 25    142\n",
       " 28    138\n",
       " 18    137\n",
       " 19    135\n",
       " 26    134\n",
       " 24    131\n",
       " 3     129\n",
       " 16    127\n",
       " 14    127\n",
       " 30    126\n",
       " 17    125\n",
       " 34    125\n",
       " 27    125\n",
       " 22    124\n",
       " 29    124\n",
       " 7     121\n",
       " 6     119\n",
       " 15    119\n",
       " 8     119\n",
       " 10    118\n",
       " 13    117\n",
       " 33    117\n",
       " 11    116\n",
       " 37    116\n",
       " 36    114\n",
       " 21    113\n",
       " 4     113\n",
       " 31    104\n",
       " 12    102\n",
       " 38     88\n",
       " 2      85\n",
       " 39     85\n",
       " 1      74\n",
       " 0      66\n",
       " 40     57\n",
       " 41     43\n",
       "-1      33\n",
       "-2      15\n",
       " 42      8\n",
       "-3       4\n",
       " 43      3\n",
       "Name: Experience, dtype: int64"
      ]
     },
     "execution_count": 17,
     "metadata": {},
     "output_type": "execute_result"
    }
   ],
   "source": [
    "df.Experience.value_counts()"
   ]
  },
  {
   "cell_type": "code",
   "execution_count": 18,
   "id": "9c9d5bb5",
   "metadata": {},
   "outputs": [
    {
     "name": "stderr",
     "output_type": "stream",
     "text": [
      "C:\\Users\\Siddiq\\anaconda3\\lib\\site-packages\\seaborn\\distributions.py:2619: FutureWarning: `distplot` is a deprecated function and will be removed in a future version. Please adapt your code to use either `displot` (a figure-level function with similar flexibility) or `histplot` (an axes-level function for histograms).\n",
      "  warnings.warn(msg, FutureWarning)\n"
     ]
    },
    {
     "data": {
      "text/plain": [
       "<AxesSubplot:xlabel='Experience', ylabel='Density'>"
      ]
     },
     "execution_count": 18,
     "metadata": {},
     "output_type": "execute_result"
    },
    {
     "data": {
      "image/png": "[encoded data removed]",
      "text/plain": [
       "<Figure size 432x288 with 1 Axes>"
      ]
     },
     "metadata": {
      "needs_background": "light"
     },
     "output_type": "display_data"
    }
   ],
   "source": [
    "sns.distplot(df.Experience)"
   ]
  },
  {
   "cell_type": "code",
   "execution_count": 19,
   "id": "d4d0b8f4",
   "metadata": {},
   "outputs": [
    {
     "name": "stdout",
     "output_type": "stream",
     "text": [
      "                df      sum_sq   mean_sq         F    PR(>F)\n",
      "Experience     1.0    0.023846  0.023846  0.274675  0.600236\n",
      "Residual    4998.0  433.896154  0.086814       NaN       NaN\n"
     ]
    }
   ],
   "source": [
    "import statsmodels.api as sm\n",
    "from statsmodels.formula.api import ols\n",
    "mod=ols('Personal_Loan~Experience',data=df).fit()\n",
    "anov=sm.stats.anova_lm(mod)\n",
    "print(anov)"
   ]
  },
  {
   "cell_type": "code",
   "execution_count": 20,
   "id": "2a9ad50a",
   "metadata": {},
   "outputs": [],
   "source": [
    "df.drop('Experience',inplace=True,axis=1)"
   ]
  },
  {
   "cell_type": "code",
   "execution_count": 21,
   "id": "6ec0c3cd",
   "metadata": {},
   "outputs": [
    {
     "data": {
      "text/plain": [
       "Index(['Income', 'ZIP_Code', 'Family', 'CCAvg', 'Education', 'Mortgage',\n",
       "       'Personal_Loan', 'Securities_Account', 'CD_Account', 'Online',\n",
       "       'CreditCard'],\n",
       "      dtype='object')"
      ]
     },
     "execution_count": 21,
     "metadata": {},
     "output_type": "execute_result"
    }
   ],
   "source": [
    "df.columns"
   ]
  },
  {
   "cell_type": "markdown",
   "id": "583c6716",
   "metadata": {},
   "source": [
    "# Income"
   ]
  },
  {
   "cell_type": "code",
   "execution_count": 22,
   "id": "a018da7f",
   "metadata": {},
   "outputs": [
    {
     "data": {
      "text/plain": [
       "44     85\n",
       "38     84\n",
       "81     83\n",
       "41     82\n",
       "39     81\n",
       "40     78\n",
       "42     77\n",
       "83     74\n",
       "43     70\n",
       "45     69\n",
       "29     67\n",
       "35     65\n",
       "21     65\n",
       "85     65\n",
       "22     65\n",
       "25     64\n",
       "84     63\n",
       "28     63\n",
       "30     63\n",
       "78     61\n",
       "82     61\n",
       "55     61\n",
       "65     60\n",
       "64     60\n",
       "32     58\n",
       "53     57\n",
       "61     57\n",
       "80     56\n",
       "58     55\n",
       "31     55\n",
       "62     55\n",
       "23     54\n",
       "18     53\n",
       "34     53\n",
       "79     53\n",
       "59     53\n",
       "19     52\n",
       "54     52\n",
       "49     52\n",
       "60     52\n",
       "33     51\n",
       "70     47\n",
       "52     47\n",
       "75     47\n",
       "20     47\n",
       "24     47\n",
       "63     46\n",
       "69     46\n",
       "74     45\n",
       "50     45\n",
       "73     44\n",
       "48     44\n",
       "71     43\n",
       "72     41\n",
       "51     41\n",
       "90     38\n",
       "93     37\n",
       "91     37\n",
       "68     35\n",
       "113    34\n",
       "89     34\n",
       "15     33\n",
       "13     32\n",
       "14     31\n",
       "114    30\n",
       "12     30\n",
       "92     29\n",
       "98     28\n",
       "11     27\n",
       "115    27\n",
       "9      26\n",
       "112    26\n",
       "88     26\n",
       "94     26\n",
       "95     25\n",
       "122    24\n",
       "101    24\n",
       "141    24\n",
       "99     24\n",
       "128    24\n",
       "129    23\n",
       "145    23\n",
       "8      23\n",
       "125    23\n",
       "10     23\n",
       "111    22\n",
       "154    21\n",
       "134    20\n",
       "104    20\n",
       "121    20\n",
       "149    20\n",
       "105    20\n",
       "130    19\n",
       "110    19\n",
       "118    19\n",
       "155    19\n",
       "131    19\n",
       "140    19\n",
       "103    18\n",
       "180    18\n",
       "138    18\n",
       "109    18\n",
       "158    18\n",
       "135    18\n",
       "132    18\n",
       "119    18\n",
       "123    18\n",
       "120    17\n",
       "179    17\n",
       "102    16\n",
       "139    16\n",
       "108    16\n",
       "161    16\n",
       "195    15\n",
       "142    15\n",
       "133    15\n",
       "152    15\n",
       "173    13\n",
       "191    13\n",
       "182    13\n",
       "164    13\n",
       "124    12\n",
       "184    12\n",
       "170    12\n",
       "183    12\n",
       "175    12\n",
       "160    12\n",
       "190    11\n",
       "165    11\n",
       "153    11\n",
       "150    11\n",
       "148    11\n",
       "172    11\n",
       "188    10\n",
       "178    10\n",
       "100    10\n",
       "162    10\n",
       "174     9\n",
       "163     9\n",
       "143     9\n",
       "185     9\n",
       "171     9\n",
       "181     8\n",
       "194     8\n",
       "168     8\n",
       "144     7\n",
       "159     7\n",
       "169     7\n",
       "192     6\n",
       "193     6\n",
       "201     5\n",
       "151     4\n",
       "200     3\n",
       "204     3\n",
       "198     3\n",
       "199     3\n",
       "205     2\n",
       "202     2\n",
       "203     2\n",
       "189     2\n",
       "224     1\n",
       "218     1\n",
       "Name: Income, dtype: int64"
      ]
     },
     "execution_count": 22,
     "metadata": {},
     "output_type": "execute_result"
    }
   ],
   "source": [
    "df.Income.value_counts()"
   ]
  },
  {
   "cell_type": "code",
   "execution_count": 23,
   "id": "d77ae494",
   "metadata": {},
   "outputs": [
    {
     "name": "stderr",
     "output_type": "stream",
     "text": [
      "C:\\Users\\Siddiq\\anaconda3\\lib\\site-packages\\seaborn\\distributions.py:2619: FutureWarning: `distplot` is a deprecated function and will be removed in a future version. Please adapt your code to use either `displot` (a figure-level function with similar flexibility) or `histplot` (an axes-level function for histograms).\n",
      "  warnings.warn(msg, FutureWarning)\n"
     ]
    },
    {
     "data": {
      "text/plain": [
       "<AxesSubplot:xlabel='Income', ylabel='Density'>"
      ]
     },
     "execution_count": 23,
     "metadata": {},
     "output_type": "execute_result"
    },
    {
     "data": {
      "image/png": "[encoded data removed]",
      "text/plain": [
       "<Figure size 432x288 with 1 Axes>"
      ]
     },
     "metadata": {
      "needs_background": "light"
     },
     "output_type": "display_data"
    }
   ],
   "source": [
    "sns.distplot(df.Income)"
   ]
  },
  {
   "cell_type": "code",
   "execution_count": 24,
   "id": "2ddb0430",
   "metadata": {},
   "outputs": [
    {
     "name": "stdout",
     "output_type": "stream",
     "text": [
      "              df      sum_sq     mean_sq           F         PR(>F)\n",
      "Income       1.0  109.551069  109.551069  1688.00458  3.560291e-318\n",
      "Residual  4998.0  324.368931    0.064900         NaN            NaN\n"
     ]
    }
   ],
   "source": [
    "import statsmodels.api as sm\n",
    "from statsmodels.formula.api import ols\n",
    "mod=ols('Personal_Loan~Income',data=df).fit()\n",
    "anov=sm.stats.anova_lm(mod)\n",
    "print(anov)"
   ]
  },
  {
   "cell_type": "code",
   "execution_count": 25,
   "id": "d3b5c32a",
   "metadata": {},
   "outputs": [
    {
     "data": {
      "text/plain": [
       "Index(['Income', 'ZIP_Code', 'Family', 'CCAvg', 'Education', 'Mortgage',\n",
       "       'Personal_Loan', 'Securities_Account', 'CD_Account', 'Online',\n",
       "       'CreditCard'],\n",
       "      dtype='object')"
      ]
     },
     "execution_count": 25,
     "metadata": {},
     "output_type": "execute_result"
    }
   ],
   "source": [
    "df.columns"
   ]
  },
  {
   "cell_type": "markdown",
   "id": "dffcd595",
   "metadata": {},
   "source": [
    "# ZIP_Code"
   ]
  },
  {
   "cell_type": "code",
   "execution_count": 26,
   "id": "a5158a85",
   "metadata": {},
   "outputs": [
    {
     "data": {
      "text/plain": [
       "94720    169\n",
       "94305    127\n",
       "95616    116\n",
       "90095     71\n",
       "93106     57\n",
       "93943     54\n",
       "92037     54\n",
       "91320     53\n",
       "91711     52\n",
       "94025     52\n",
       "92093     51\n",
       "90024     50\n",
       "90245     50\n",
       "90089     46\n",
       "91330     46\n",
       "92121     45\n",
       "94304     45\n",
       "94143     37\n",
       "95051     34\n",
       "94608     34\n",
       "92182     32\n",
       "92028     32\n",
       "92521     32\n",
       "95054     31\n",
       "95814     30\n",
       "95014     29\n",
       "94542     27\n",
       "94550     27\n",
       "94301     27\n",
       "95064     26\n",
       "94501     26\n",
       "95039     26\n",
       "95819     26\n",
       "93407     26\n",
       "94105     25\n",
       "91107     25\n",
       "94022     25\n",
       "95060     25\n",
       "94303     25\n",
       "93117     24\n",
       "94596     24\n",
       "93555     23\n",
       "94080     23\n",
       "95521     23\n",
       "91380     22\n",
       "92612     22\n",
       "92717     22\n",
       "92647     21\n",
       "94110     21\n",
       "91768     21\n",
       "94117     20\n",
       "94132     20\n",
       "90034     20\n",
       "90401     20\n",
       "94005     19\n",
       "90266     19\n",
       "92122     19\n",
       "92697     19\n",
       "90025     19\n",
       "95747     19\n",
       "90840     18\n",
       "94709     18\n",
       "94309     18\n",
       "92130     18\n",
       "90291     18\n",
       "93940     18\n",
       "94122     18\n",
       "93023     17\n",
       "90630     17\n",
       "92009     17\n",
       "94583     17\n",
       "92691     17\n",
       "90740     17\n",
       "92407     17\n",
       "91311     17\n",
       "92120     17\n",
       "92096     17\n",
       "92677     16\n",
       "92780     16\n",
       "94539     16\n",
       "95136     16\n",
       "90277     16\n",
       "92126     16\n",
       "95929     15\n",
       "94928     15\n",
       "92354     15\n",
       "95134     15\n",
       "94115     15\n",
       "94588     15\n",
       "91604     15\n",
       "94061     15\n",
       "92152     14\n",
       "94545     14\n",
       "94590     14\n",
       "94920     14\n",
       "92507     14\n",
       "90064     14\n",
       "95020     14\n",
       "94111     14\n",
       "95762     13\n",
       "94704     13\n",
       "92103     13\n",
       "94609     13\n",
       "92115     13\n",
       "92064     13\n",
       "92007     13\n",
       "94611     13\n",
       "95053     12\n",
       "91355     12\n",
       "95133     12\n",
       "91775     12\n",
       "94109     12\n",
       "93955     12\n",
       "94701     12\n",
       "95670     12\n",
       "94063     12\n",
       "93108     12\n",
       "94402     12\n",
       "95818     12\n",
       "94306     11\n",
       "90210     11\n",
       "94024     11\n",
       "92008     11\n",
       "92110     11\n",
       "95008     11\n",
       "93109     11\n",
       "92123     11\n",
       "95035     11\n",
       "94112     11\n",
       "94801     11\n",
       "95827     11\n",
       "92831     11\n",
       "94010     10\n",
       "90405     10\n",
       "92646     10\n",
       "91605     10\n",
       "94035     10\n",
       "91902     10\n",
       "90041     10\n",
       "95630     10\n",
       "91304     10\n",
       "92870     10\n",
       "92374     10\n",
       "94998     10\n",
       "90717     10\n",
       "95032     10\n",
       "94086     10\n",
       "93305     10\n",
       "93907     10\n",
       "92173     10\n",
       "94065     10\n",
       "94706     10\n",
       "91360     10\n",
       "93014     10\n",
       "92373     10\n",
       "91910      9\n",
       "95123      9\n",
       "91335      9\n",
       "95023      9\n",
       "95605      9\n",
       "96001      9\n",
       "90049      9\n",
       "92806      9\n",
       "90033      9\n",
       "91103      9\n",
       "92660      9\n",
       "90250      9\n",
       "93711      9\n",
       "94102      9\n",
       "94131      9\n",
       "91302      9\n",
       "95351      9\n",
       "94710      9\n",
       "91125      9\n",
       "95120      9\n",
       "92104      8\n",
       "90009      8\n",
       "93105      8\n",
       "92821      8\n",
       "92672      8\n",
       "91101      8\n",
       "92101      8\n",
       "90065      8\n",
       "94104      8\n",
       "90028      8\n",
       "90032      8\n",
       "92626      8\n",
       "93561      8\n",
       "94591      8\n",
       "95831      8\n",
       "90503      8\n",
       "95833      8\n",
       "90747      8\n",
       "91016      8\n",
       "90212      8\n",
       "92866      8\n",
       "92630      8\n",
       "95112      7\n",
       "95841      7\n",
       "94607      7\n",
       "95211      7\n",
       "94708      7\n",
       "94534      7\n",
       "95370      7\n",
       "92124      7\n",
       "93101      7\n",
       "94114      7\n",
       "91105      7\n",
       "95006      7\n",
       "95821      7\n",
       "92675      7\n",
       "92709      7\n",
       "92333      7\n",
       "91950      7\n",
       "94015      7\n",
       "95138      7\n",
       "91763      7\n",
       "94234      7\n",
       "94002      7\n",
       "90254      7\n",
       "92807      7\n",
       "91423      7\n",
       "94085      7\n",
       "94551      7\n",
       "90036      7\n",
       "94123      7\n",
       "92038      7\n",
       "93010      7\n",
       "93118      7\n",
       "92131      7\n",
       "92606      7\n",
       "91942      7\n",
       "92220      7\n",
       "90058      6\n",
       "91741      6\n",
       "91040      6\n",
       "92056      6\n",
       "94538      6\n",
       "90073      6\n",
       "90066      6\n",
       "95503      6\n",
       "94923      6\n",
       "91301      6\n",
       "91765      6\n",
       "95621      6\n",
       "94960      6\n",
       "96651      6\n",
       "90071      6\n",
       "95126      6\n",
       "90007      6\n",
       "91116      6\n",
       "92868      6\n",
       "94553      6\n",
       "91911      6\n",
       "90502      6\n",
       "94043      6\n",
       "96003      6\n",
       "94546      6\n",
       "91367      6\n",
       "91365      6\n",
       "94707      6\n",
       "90230      6\n",
       "93727      6\n",
       "94949      6\n",
       "90035      6\n",
       "95812      6\n",
       "90504      6\n",
       "91401      6\n",
       "92704      6\n",
       "94606      6\n",
       "94040      6\n",
       "95207      6\n",
       "94610      6\n",
       "91709      6\n",
       "91706      6\n",
       "92029      6\n",
       "92109      6\n",
       "94523      6\n",
       "92346      6\n",
       "91730      6\n",
       "91745      6\n",
       "95449      6\n",
       "94904      6\n",
       "94521      6\n",
       "92325      5\n",
       "94107      5\n",
       "91006      5\n",
       "90509      5\n",
       "94066      5\n",
       "94939      5\n",
       "92054      5\n",
       "90274      5\n",
       "91007      5\n",
       "90720      5\n",
       "92867      5\n",
       "90404      5\n",
       "91203      5\n",
       "90638      5\n",
       "93611      5\n",
       "95045      5\n",
       "91770      5\n",
       "92634      5\n",
       "92068      5\n",
       "93950      5\n",
       "92154      5\n",
       "90232      5\n",
       "94612      5\n",
       "94901      5\n",
       "94124      5\n",
       "95617      5\n",
       "92192      5\n",
       "90019      5\n",
       "90005      5\n",
       "93302      5\n",
       "90037      5\n",
       "93107      5\n",
       "93022      5\n",
       "93065      5\n",
       "94555      5\n",
       "95070      5\n",
       "91754      5\n",
       "96064      5\n",
       "93437      5\n",
       "95817      5\n",
       "93460      5\n",
       "95403      5\n",
       "90029      5\n",
       "93524      5\n",
       "92703      5\n",
       "95822      5\n",
       "91109      5\n",
       "94705      4\n",
       "91342      4\n",
       "94126      4\n",
       "92084      4\n",
       "90059      4\n",
       "90601      4\n",
       "94571      4\n",
       "93401      4\n",
       "96150      4\n",
       "94108      4\n",
       "91361      4\n",
       "95828      4\n",
       "92735      4\n",
       "95354      4\n",
       "95741      4\n",
       "94577      4\n",
       "95825      4\n",
       "94028      4\n",
       "93003      4\n",
       "92653      4\n",
       "95003      4\n",
       "92648      4\n",
       "91614      4\n",
       "91030      4\n",
       "95348      4\n",
       "94118      4\n",
       "92069      4\n",
       "95758      4\n",
       "92129      4\n",
       "96091      4\n",
       "95010      4\n",
       "95422      4\n",
       "95125      4\n",
       "92350      4\n",
       "93009      4\n",
       "91791      4\n",
       "90048      4\n",
       "92833      4\n",
       "94302      4\n",
       "95678      4\n",
       "95820      4\n",
       "92624      4\n",
       "90639      4\n",
       "90018      4\n",
       "95973      4\n",
       "92886      4\n",
       "94536      4\n",
       "95131      3\n",
       "95518      3\n",
       "95135      3\n",
       "90275      3\n",
       "96008      3\n",
       "91801      3\n",
       "94566      3\n",
       "94703      3\n",
       "94558      3\n",
       "93403      3\n",
       "91773      3\n",
       "90755      3\n",
       "93933      3\n",
       "91710      3\n",
       "93111      3\n",
       "93063      3\n",
       "94806      3\n",
       "93657      3\n",
       "92251      3\n",
       "92835      3\n",
       "90027      3\n",
       "92518      3\n",
       "90640      3\n",
       "92177      3\n",
       "90045      3\n",
       "90505      3\n",
       "92843      3\n",
       "90057      3\n",
       "94803      3\n",
       "94618      3\n",
       "92024      3\n",
       "92692      3\n",
       "92661      3\n",
       "93311      3\n",
       "92399      3\n",
       "92834      3\n",
       "93720      3\n",
       "90650      3\n",
       "91343      3\n",
       "95192      3\n",
       "90011      3\n",
       "91345      3\n",
       "92614      3\n",
       "92673      3\n",
       "90086      3\n",
       "92106      3\n",
       "91207      2\n",
       "94116      2\n",
       "91784      2\n",
       "95816      2\n",
       "95842      2\n",
       "90272      2\n",
       "96094      2\n",
       "90280      2\n",
       "91326      2\n",
       "90623      2\n",
       "95193      2\n",
       "92705      2\n",
       "90304      2\n",
       "94507      2\n",
       "90745      2\n",
       "94604      2\n",
       "93033      2\n",
       "94019      2\n",
       "95037      2\n",
       "90044      2\n",
       "95405      2\n",
       "90016      2\n",
       "95005      2\n",
       "94526      2\n",
       "92116      2\n",
       "92161      2\n",
       "94575      2\n",
       "95307      2\n",
       "94509      2\n",
       "95482      2\n",
       "91129      2\n",
       "91941      2\n",
       "94404      1\n",
       "90813      1\n",
       "94970      1\n",
       "90068      1\n",
       "92694      1\n",
       "94965      1\n",
       "96145      1\n",
       "94087      1\n",
       "91024      1\n",
       "9307       1\n",
       "94598      1\n",
       "Name: ZIP_Code, dtype: int64"
      ]
     },
     "execution_count": 26,
     "metadata": {},
     "output_type": "execute_result"
    }
   ],
   "source": [
    "df.ZIP_Code.value_counts()"
   ]
  },
  {
   "cell_type": "code",
   "execution_count": 27,
   "id": "251882f3",
   "metadata": {},
   "outputs": [
    {
     "name": "stderr",
     "output_type": "stream",
     "text": [
      "C:\\Users\\Siddiq\\anaconda3\\lib\\site-packages\\seaborn\\distributions.py:2619: FutureWarning: `distplot` is a deprecated function and will be removed in a future version. Please adapt your code to use either `displot` (a figure-level function with similar flexibility) or `histplot` (an axes-level function for histograms).\n",
      "  warnings.warn(msg, FutureWarning)\n"
     ]
    },
    {
     "data": {
      "text/plain": [
       "<AxesSubplot:xlabel='ZIP_Code', ylabel='Density'>"
      ]
     },
     "execution_count": 27,
     "metadata": {},
     "output_type": "execute_result"
    },
    {
     "data": {
      "image/png": "[encoded data removed]",
      "text/plain": [
       "<Figure size 432x288 with 1 Axes>"
      ]
     },
     "metadata": {
      "needs_background": "light"
     },
     "output_type": "display_data"
    }
   ],
   "source": [
    "sns.distplot(df.ZIP_Code)"
   ]
  },
  {
   "cell_type": "code",
   "execution_count": 28,
   "id": "9a62d660",
   "metadata": {},
   "outputs": [
    {
     "name": "stdout",
     "output_type": "stream",
     "text": [
      "              df      sum_sq   mean_sq         F    PR(>F)\n",
      "ZIP_Code     1.0    0.000005  0.000005  0.000058  0.993944\n",
      "Residual  4998.0  433.919995  0.086819       NaN       NaN\n"
     ]
    }
   ],
   "source": [
    "import statsmodels.api as sm\n",
    "from statsmodels.formula.api import ols\n",
    "mod=ols('Personal_Loan~ZIP_Code',data=df).fit()\n",
    "anov=sm.stats.anova_lm(mod)\n",
    "print(anov)"
   ]
  },
  {
   "cell_type": "code",
   "execution_count": 29,
   "id": "a3935896",
   "metadata": {},
   "outputs": [],
   "source": [
    "df.drop('ZIP_Code',axis=1,inplace=True)"
   ]
  },
  {
   "cell_type": "code",
   "execution_count": 30,
   "id": "7c89c4df",
   "metadata": {},
   "outputs": [
    {
     "data": {
      "text/plain": [
       "Index(['Income', 'Family', 'CCAvg', 'Education', 'Mortgage', 'Personal_Loan',\n",
       "       'Securities_Account', 'CD_Account', 'Online', 'CreditCard'],\n",
       "      dtype='object')"
      ]
     },
     "execution_count": 30,
     "metadata": {},
     "output_type": "execute_result"
    }
   ],
   "source": [
    "df.columns"
   ]
  },
  {
   "cell_type": "markdown",
   "id": "5c5a0f5e",
   "metadata": {},
   "source": [
    "# Family"
   ]
  },
  {
   "cell_type": "code",
   "execution_count": 31,
   "id": "d5eba3b6",
   "metadata": {},
   "outputs": [
    {
     "data": {
      "text/plain": [
       "1    1472\n",
       "2    1296\n",
       "4    1222\n",
       "3    1010\n",
       "Name: Family, dtype: int64"
      ]
     },
     "execution_count": 31,
     "metadata": {},
     "output_type": "execute_result"
    }
   ],
   "source": [
    "df.Family.value_counts()#ordered"
   ]
  },
  {
   "cell_type": "code",
   "execution_count": 32,
   "id": "bb6f333d",
   "metadata": {},
   "outputs": [
    {
     "name": "stderr",
     "output_type": "stream",
     "text": [
      "C:\\Users\\Siddiq\\anaconda3\\lib\\site-packages\\seaborn\\_decorators.py:36: FutureWarning: Pass the following variable as a keyword arg: x. From version 0.12, the only valid positional argument will be `data`, and passing other arguments without an explicit keyword will result in an error or misinterpretation.\n",
      "  warnings.warn(\n"
     ]
    },
    {
     "data": {
      "text/plain": [
       "<AxesSubplot:xlabel='Family', ylabel='count'>"
      ]
     },
     "execution_count": 32,
     "metadata": {},
     "output_type": "execute_result"
    },
    {
     "data": {
      "image/png": "[encoded data removed]",
      "text/plain": [
       "<Figure size 432x288 with 1 Axes>"
      ]
     },
     "metadata": {
      "needs_background": "light"
     },
     "output_type": "display_data"
    }
   ],
   "source": [
    "sns.countplot(df.Family)"
   ]
  },
  {
   "cell_type": "code",
   "execution_count": 33,
   "id": "46daecfd",
   "metadata": {},
   "outputs": [
    {
     "name": "stdout",
     "output_type": "stream",
     "text": [
      "              df      sum_sq   mean_sq          F    PR(>F)\n",
      "Family       1.0    1.634105  1.634105  18.893189  0.000014\n",
      "Residual  4998.0  432.285895  0.086492        NaN       NaN\n"
     ]
    }
   ],
   "source": [
    "import statsmodels.api as sm\n",
    "from statsmodels.formula.api import ols\n",
    "mod=ols('Personal_Loan~Family',data=df).fit()\n",
    "anov=sm.stats.anova_lm(mod)\n",
    "print(anov)"
   ]
  },
  {
   "cell_type": "code",
   "execution_count": 34,
   "id": "ffe58348",
   "metadata": {},
   "outputs": [
    {
     "data": {
      "text/plain": [
       "Index(['Income', 'Family', 'CCAvg', 'Education', 'Mortgage', 'Personal_Loan',\n",
       "       'Securities_Account', 'CD_Account', 'Online', 'CreditCard'],\n",
       "      dtype='object')"
      ]
     },
     "execution_count": 34,
     "metadata": {},
     "output_type": "execute_result"
    }
   ],
   "source": [
    "df.columns"
   ]
  },
  {
   "cell_type": "markdown",
   "id": "6ddf0efb",
   "metadata": {},
   "source": [
    "# CCAvg"
   ]
  },
  {
   "cell_type": "code",
   "execution_count": 35,
   "id": "0dc87fe0",
   "metadata": {},
   "outputs": [
    {
     "data": {
      "text/plain": [
       "0.30     241\n",
       "1.00     231\n",
       "0.20     204\n",
       "2.00     188\n",
       "0.80     187\n",
       "0.10     183\n",
       "0.40     179\n",
       "1.50     178\n",
       "0.70     169\n",
       "0.50     163\n",
       "1.70     158\n",
       "1.80     152\n",
       "1.40     136\n",
       "2.20     130\n",
       "1.30     128\n",
       "0.60     118\n",
       "2.80     110\n",
       "2.50     107\n",
       "0.90     106\n",
       "0.00     106\n",
       "1.90     106\n",
       "1.60     101\n",
       "2.10     100\n",
       "2.40      92\n",
       "2.60      87\n",
       "1.10      84\n",
       "1.20      66\n",
       "2.30      58\n",
       "2.70      58\n",
       "2.90      54\n",
       "3.00      53\n",
       "3.30      45\n",
       "3.80      43\n",
       "3.40      39\n",
       "2.67      36\n",
       "4.00      33\n",
       "4.50      29\n",
       "3.60      27\n",
       "3.90      27\n",
       "4.30      26\n",
       "6.00      26\n",
       "3.70      25\n",
       "4.70      24\n",
       "4.10      22\n",
       "4.90      22\n",
       "3.20      22\n",
       "3.10      20\n",
       "2.33      18\n",
       "1.67      18\n",
       "5.40      18\n",
       "0.67      18\n",
       "5.00      18\n",
       "6.50      18\n",
       "4.40      17\n",
       "5.20      16\n",
       "3.50      15\n",
       "4.60      14\n",
       "6.10      14\n",
       "6.90      14\n",
       "7.00      14\n",
       "7.20      13\n",
       "7.40      13\n",
       "5.70      13\n",
       "6.30      13\n",
       "8.00      12\n",
       "7.50      12\n",
       "4.20      11\n",
       "8.10      10\n",
       "6.80      10\n",
       "7.30      10\n",
       "6.33      10\n",
       "8.80       9\n",
       "1.33       9\n",
       "7.60       9\n",
       "6.70       9\n",
       "6.67       9\n",
       "7.80       9\n",
       "4.33       9\n",
       "1.75       9\n",
       "0.75       9\n",
       "8.60       8\n",
       "4.80       7\n",
       "5.60       7\n",
       "5.10       6\n",
       "5.90       5\n",
       "6.60       4\n",
       "5.30       4\n",
       "5.50       4\n",
       "7.90       4\n",
       "10.00      3\n",
       "5.80       3\n",
       "6.40       3\n",
       "6.20       2\n",
       "9.00       2\n",
       "8.30       2\n",
       "4.25       2\n",
       "5.67       2\n",
       "8.50       2\n",
       "4.75       2\n",
       "8.20       1\n",
       "9.30       1\n",
       "5.33       1\n",
       "3.33       1\n",
       "3.25       1\n",
       "3.67       1\n",
       "4.67       1\n",
       "8.90       1\n",
       "2.75       1\n",
       "Name: CCAvg, dtype: int64"
      ]
     },
     "execution_count": 35,
     "metadata": {},
     "output_type": "execute_result"
    }
   ],
   "source": [
    "df.CCAvg.value_counts()"
   ]
  },
  {
   "cell_type": "code",
   "execution_count": 36,
   "id": "ab838d0b",
   "metadata": {},
   "outputs": [
    {
     "name": "stderr",
     "output_type": "stream",
     "text": [
      "C:\\Users\\Siddiq\\anaconda3\\lib\\site-packages\\seaborn\\distributions.py:2619: FutureWarning: `distplot` is a deprecated function and will be removed in a future version. Please adapt your code to use either `displot` (a figure-level function with similar flexibility) or `histplot` (an axes-level function for histograms).\n",
      "  warnings.warn(msg, FutureWarning)\n"
     ]
    },
    {
     "data": {
      "text/plain": [
       "<AxesSubplot:xlabel='CCAvg', ylabel='Density'>"
      ]
     },
     "execution_count": 36,
     "metadata": {},
     "output_type": "execute_result"
    },
    {
     "data": {
      "image/png": "[encoded data removed]",
      "text/plain": [
       "<Figure size 432x288 with 1 Axes>"
      ]
     },
     "metadata": {
      "needs_background": "light"
     },
     "output_type": "display_data"
    }
   ],
   "source": [
    "sns.distplot(df.CCAvg)"
   ]
  },
  {
   "cell_type": "code",
   "execution_count": 37,
   "id": "638bafba",
   "metadata": {},
   "outputs": [
    {
     "name": "stdout",
     "output_type": "stream",
     "text": [
      "              df      sum_sq    mean_sq           F         PR(>F)\n",
      "CCAvg        1.0   58.408819  58.408819  777.413007  3.830266e-159\n",
      "Residual  4998.0  375.511181   0.075132         NaN            NaN\n"
     ]
    }
   ],
   "source": [
    "import statsmodels.api as sm\n",
    "from statsmodels.formula.api import ols\n",
    "mod=ols('Personal_Loan~CCAvg',data=df).fit()\n",
    "anov=sm.stats.anova_lm(mod)\n",
    "print(anov)"
   ]
  },
  {
   "cell_type": "code",
   "execution_count": 38,
   "id": "f513830b",
   "metadata": {},
   "outputs": [
    {
     "data": {
      "text/plain": [
       "Index(['Income', 'Family', 'CCAvg', 'Education', 'Mortgage', 'Personal_Loan',\n",
       "       'Securities_Account', 'CD_Account', 'Online', 'CreditCard'],\n",
       "      dtype='object')"
      ]
     },
     "execution_count": 38,
     "metadata": {},
     "output_type": "execute_result"
    }
   ],
   "source": [
    "df.columns"
   ]
  },
  {
   "cell_type": "markdown",
   "id": "76b62057",
   "metadata": {},
   "source": [
    "# Education"
   ]
  },
  {
   "cell_type": "code",
   "execution_count": 39,
   "id": "579f25e8",
   "metadata": {},
   "outputs": [
    {
     "data": {
      "text/plain": [
       "1    2096\n",
       "3    1501\n",
       "2    1403\n",
       "Name: Education, dtype: int64"
      ]
     },
     "execution_count": 39,
     "metadata": {},
     "output_type": "execute_result"
    }
   ],
   "source": [
    "df.Education.value_counts()#ordered"
   ]
  },
  {
   "cell_type": "code",
   "execution_count": 40,
   "id": "67de87f0",
   "metadata": {},
   "outputs": [
    {
     "name": "stderr",
     "output_type": "stream",
     "text": [
      "C:\\Users\\Siddiq\\anaconda3\\lib\\site-packages\\seaborn\\_decorators.py:36: FutureWarning: Pass the following variable as a keyword arg: x. From version 0.12, the only valid positional argument will be `data`, and passing other arguments without an explicit keyword will result in an error or misinterpretation.\n",
      "  warnings.warn(\n"
     ]
    },
    {
     "data": {
      "text/plain": [
       "<AxesSubplot:xlabel='Education', ylabel='count'>"
      ]
     },
     "execution_count": 40,
     "metadata": {},
     "output_type": "execute_result"
    },
    {
     "data": {
      "image/png": "[encoded data removed]",
      "text/plain": [
       "<Figure size 432x288 with 1 Axes>"
      ]
     },
     "metadata": {
      "needs_background": "light"
     },
     "output_type": "display_data"
    }
   ],
   "source": [
    "sns.countplot(df.Education)"
   ]
  },
  {
   "cell_type": "code",
   "execution_count": 41,
   "id": "d347a3d1",
   "metadata": {},
   "outputs": [
    {
     "name": "stdout",
     "output_type": "stream",
     "text": [
      "               df      sum_sq   mean_sq          F        PR(>F)\n",
      "Education     1.0    8.111172  8.111172  95.206194  2.709663e-22\n",
      "Residual   4998.0  425.808828  0.085196        NaN           NaN\n"
     ]
    }
   ],
   "source": [
    "import statsmodels.api as sm\n",
    "from statsmodels.formula.api import ols\n",
    "mod=ols('Personal_Loan~Education',data=df).fit()\n",
    "anov=sm.stats.anova_lm(mod)\n",
    "print(anov)"
   ]
  },
  {
   "cell_type": "code",
   "execution_count": 42,
   "id": "0e234821",
   "metadata": {},
   "outputs": [
    {
     "data": {
      "text/plain": [
       "Index(['Income', 'Family', 'CCAvg', 'Education', 'Mortgage', 'Personal_Loan',\n",
       "       'Securities_Account', 'CD_Account', 'Online', 'CreditCard'],\n",
       "      dtype='object')"
      ]
     },
     "execution_count": 42,
     "metadata": {},
     "output_type": "execute_result"
    }
   ],
   "source": [
    "df.columns"
   ]
  },
  {
   "cell_type": "markdown",
   "id": "a9a690df",
   "metadata": {},
   "source": [
    "# Mortgage"
   ]
  },
  {
   "cell_type": "code",
   "execution_count": 43,
   "id": "1351f6e2",
   "metadata": {},
   "outputs": [
    {
     "data": {
      "text/plain": [
       "0      3462\n",
       "98       17\n",
       "119      16\n",
       "89       16\n",
       "91       16\n",
       "103      16\n",
       "83       16\n",
       "102      15\n",
       "90       15\n",
       "78       15\n",
       "87       14\n",
       "94       14\n",
       "131      14\n",
       "118      14\n",
       "104      14\n",
       "101      14\n",
       "144      13\n",
       "106      13\n",
       "81       13\n",
       "116      13\n",
       "109      13\n",
       "112      13\n",
       "97       12\n",
       "120      12\n",
       "100      12\n",
       "76       12\n",
       "185      12\n",
       "121      12\n",
       "84       11\n",
       "137      11\n",
       "79       11\n",
       "115      11\n",
       "153      11\n",
       "95       11\n",
       "86       11\n",
       "111      11\n",
       "158      11\n",
       "184      11\n",
       "113      10\n",
       "108      10\n",
       "142      10\n",
       "117      10\n",
       "82       10\n",
       "151      10\n",
       "161      10\n",
       "135      10\n",
       "148       9\n",
       "149       9\n",
       "166       9\n",
       "88        9\n",
       "221       9\n",
       "146       9\n",
       "123       9\n",
       "167       9\n",
       "128       9\n",
       "159       9\n",
       "138       8\n",
       "205       8\n",
       "147       8\n",
       "174       8\n",
       "218       8\n",
       "122       8\n",
       "75        8\n",
       "140       8\n",
       "170       8\n",
       "194       8\n",
       "110       8\n",
       "114       8\n",
       "169       8\n",
       "157       8\n",
       "164       8\n",
       "105       8\n",
       "207       8\n",
       "132       8\n",
       "96        7\n",
       "127       7\n",
       "124       7\n",
       "229       7\n",
       "204       7\n",
       "230       7\n",
       "85        7\n",
       "249       7\n",
       "219       7\n",
       "80        7\n",
       "126       7\n",
       "196       7\n",
       "129       7\n",
       "154       7\n",
       "193       7\n",
       "130       6\n",
       "187       6\n",
       "145       6\n",
       "236       6\n",
       "192       6\n",
       "134       6\n",
       "136       6\n",
       "150       6\n",
       "240       6\n",
       "251       6\n",
       "155       6\n",
       "163       6\n",
       "182       6\n",
       "99        6\n",
       "141       6\n",
       "107       6\n",
       "125       6\n",
       "198       5\n",
       "272       5\n",
       "227       5\n",
       "188       5\n",
       "307       5\n",
       "180       5\n",
       "301       5\n",
       "220       5\n",
       "171       5\n",
       "172       5\n",
       "212       5\n",
       "209       5\n",
       "256       5\n",
       "178       5\n",
       "217       5\n",
       "294       5\n",
       "156       5\n",
       "92        4\n",
       "245       4\n",
       "162       4\n",
       "342       4\n",
       "232       4\n",
       "93        4\n",
       "189       4\n",
       "231       4\n",
       "297       4\n",
       "200       4\n",
       "199       4\n",
       "241       4\n",
       "181       4\n",
       "247       4\n",
       "211       4\n",
       "77        4\n",
       "224       4\n",
       "175       4\n",
       "179       4\n",
       "203       4\n",
       "152       4\n",
       "190       4\n",
       "139       4\n",
       "244       4\n",
       "325       3\n",
       "366       3\n",
       "226       3\n",
       "315       3\n",
       "329       3\n",
       "133       3\n",
       "282       3\n",
       "422       3\n",
       "215       3\n",
       "223       3\n",
       "255       3\n",
       "197       3\n",
       "228       3\n",
       "270       3\n",
       "323       3\n",
       "143       3\n",
       "242       3\n",
       "268       3\n",
       "277       3\n",
       "168       3\n",
       "186       3\n",
       "257       3\n",
       "352       3\n",
       "248       3\n",
       "264       3\n",
       "380       3\n",
       "319       3\n",
       "341       3\n",
       "428       3\n",
       "238       3\n",
       "275       3\n",
       "176       3\n",
       "263       3\n",
       "260       3\n",
       "333       3\n",
       "177       3\n",
       "305       3\n",
       "208       3\n",
       "214       3\n",
       "285       3\n",
       "308       3\n",
       "310       3\n",
       "328       3\n",
       "213       3\n",
       "327       3\n",
       "239       3\n",
       "216       3\n",
       "160       3\n",
       "165       3\n",
       "400       3\n",
       "243       2\n",
       "276       2\n",
       "330       2\n",
       "266       2\n",
       "306       2\n",
       "359       2\n",
       "565       2\n",
       "299       2\n",
       "449       2\n",
       "313       2\n",
       "225       2\n",
       "309       2\n",
       "267       2\n",
       "246       2\n",
       "202       2\n",
       "427       2\n",
       "292       2\n",
       "293       2\n",
       "368       2\n",
       "358       2\n",
       "312       2\n",
       "262       2\n",
       "408       2\n",
       "183       2\n",
       "364       2\n",
       "455       2\n",
       "394       2\n",
       "322       2\n",
       "252       2\n",
       "287       2\n",
       "442       2\n",
       "233       2\n",
       "437       2\n",
       "392       2\n",
       "372       2\n",
       "314       2\n",
       "234       2\n",
       "289       2\n",
       "402       2\n",
       "250       2\n",
       "259       2\n",
       "304       2\n",
       "303       2\n",
       "222       2\n",
       "280       2\n",
       "271       2\n",
       "201       2\n",
       "354       2\n",
       "357       2\n",
       "397       2\n",
       "296       1\n",
       "416       1\n",
       "344       1\n",
       "485       1\n",
       "383       1\n",
       "373       1\n",
       "403       1\n",
       "553       1\n",
       "210       1\n",
       "321       1\n",
       "508       1\n",
       "286       1\n",
       "500       1\n",
       "429       1\n",
       "265       1\n",
       "206       1\n",
       "378       1\n",
       "431       1\n",
       "195       1\n",
       "410       1\n",
       "273       1\n",
       "590       1\n",
       "612       1\n",
       "283       1\n",
       "550       1\n",
       "581       1\n",
       "571       1\n",
       "405       1\n",
       "302       1\n",
       "577       1\n",
       "281       1\n",
       "481       1\n",
       "173       1\n",
       "355       1\n",
       "509       1\n",
       "464       1\n",
       "278       1\n",
       "587       1\n",
       "353       1\n",
       "351       1\n",
       "258       1\n",
       "253       1\n",
       "345       1\n",
       "300       1\n",
       "381       1\n",
       "415       1\n",
       "461       1\n",
       "467       1\n",
       "496       1\n",
       "522       1\n",
       "475       1\n",
       "343       1\n",
       "398       1\n",
       "466       1\n",
       "535       1\n",
       "419       1\n",
       "589       1\n",
       "360       1\n",
       "389       1\n",
       "334       1\n",
       "336       1\n",
       "284       1\n",
       "337       1\n",
       "567       1\n",
       "601       1\n",
       "382       1\n",
       "617       1\n",
       "433       1\n",
       "421       1\n",
       "483       1\n",
       "391       1\n",
       "237       1\n",
       "318       1\n",
       "311       1\n",
       "446       1\n",
       "290       1\n",
       "406       1\n",
       "385       1\n",
       "635       1\n",
       "235       1\n",
       "295       1\n",
       "331       1\n",
       "582       1\n",
       "396       1\n",
       "477       1\n",
       "432       1\n",
       "452       1\n",
       "524       1\n",
       "412       1\n",
       "191       1\n",
       "470       1\n",
       "374       1\n",
       "569       1\n",
       "298       1\n",
       "326       1\n",
       "547       1\n",
       "458       1\n",
       "505       1\n",
       "361       1\n",
       "541       1\n",
       "Name: Mortgage, dtype: int64"
      ]
     },
     "execution_count": 43,
     "metadata": {},
     "output_type": "execute_result"
    }
   ],
   "source": [
    "df.Mortgage.value_counts()"
   ]
  },
  {
   "cell_type": "code",
   "execution_count": 44,
   "id": "9b6a538b",
   "metadata": {},
   "outputs": [
    {
     "name": "stderr",
     "output_type": "stream",
     "text": [
      "C:\\Users\\Siddiq\\anaconda3\\lib\\site-packages\\seaborn\\distributions.py:2619: FutureWarning: `distplot` is a deprecated function and will be removed in a future version. Please adapt your code to use either `displot` (a figure-level function with similar flexibility) or `histplot` (an axes-level function for histograms).\n",
      "  warnings.warn(msg, FutureWarning)\n"
     ]
    },
    {
     "data": {
      "text/plain": [
       "<AxesSubplot:xlabel='Mortgage', ylabel='Density'>"
      ]
     },
     "execution_count": 44,
     "metadata": {},
     "output_type": "execute_result"
    },
    {
     "data": {
      "image/png": "[encoded data removed]",
      "text/plain": [
       "<Figure size 432x288 with 1 Axes>"
      ]
     },
     "metadata": {
      "needs_background": "light"
     },
     "output_type": "display_data"
    }
   ],
   "source": [
    "sns.distplot(df.Mortgage)"
   ]
  },
  {
   "cell_type": "code",
   "execution_count": 45,
   "id": "c437c551",
   "metadata": {},
   "outputs": [
    {
     "name": "stdout",
     "output_type": "stream",
     "text": [
      "              df      sum_sq   mean_sq           F        PR(>F)\n",
      "Mortgage     1.0    8.761303  8.761303  102.994466  5.730342e-24\n",
      "Residual  4998.0  425.158697  0.085066         NaN           NaN\n"
     ]
    }
   ],
   "source": [
    "import statsmodels.api as sm\n",
    "from statsmodels.formula.api import ols\n",
    "mod=ols('Personal_Loan~Mortgage',data=df).fit()\n",
    "anov=sm.stats.anova_lm(mod)\n",
    "print(anov)"
   ]
  },
  {
   "cell_type": "code",
   "execution_count": 46,
   "id": "e34b342e",
   "metadata": {},
   "outputs": [
    {
     "data": {
      "text/plain": [
       "Index(['Income', 'Family', 'CCAvg', 'Education', 'Mortgage', 'Personal_Loan',\n",
       "       'Securities_Account', 'CD_Account', 'Online', 'CreditCard'],\n",
       "      dtype='object')"
      ]
     },
     "execution_count": 46,
     "metadata": {},
     "output_type": "execute_result"
    }
   ],
   "source": [
    "df.columns"
   ]
  },
  {
   "cell_type": "markdown",
   "id": "b0a6114b",
   "metadata": {},
   "source": [
    "# Securities_Account"
   ]
  },
  {
   "cell_type": "code",
   "execution_count": 47,
   "id": "d0009f83",
   "metadata": {},
   "outputs": [
    {
     "data": {
      "text/plain": [
       "0    4478\n",
       "1     522\n",
       "Name: Securities_Account, dtype: int64"
      ]
     },
     "execution_count": 47,
     "metadata": {},
     "output_type": "execute_result"
    }
   ],
   "source": [
    "df.Securities_Account.value_counts()"
   ]
  },
  {
   "cell_type": "code",
   "execution_count": 48,
   "id": "c87d8cdb",
   "metadata": {},
   "outputs": [
    {
     "name": "stderr",
     "output_type": "stream",
     "text": [
      "C:\\Users\\Siddiq\\anaconda3\\lib\\site-packages\\seaborn\\_decorators.py:36: FutureWarning: Pass the following variable as a keyword arg: x. From version 0.12, the only valid positional argument will be `data`, and passing other arguments without an explicit keyword will result in an error or misinterpretation.\n",
      "  warnings.warn(\n"
     ]
    },
    {
     "data": {
      "text/plain": [
       "<AxesSubplot:xlabel='Securities_Account', ylabel='count'>"
      ]
     },
     "execution_count": 48,
     "metadata": {},
     "output_type": "execute_result"
    },
    {
     "data": {
      "image/png": "[encoded data removed]",
      "text/plain": [
       "<Figure size 432x288 with 1 Axes>"
      ]
     },
     "metadata": {
      "needs_background": "light"
     },
     "output_type": "display_data"
    }
   ],
   "source": [
    "sns.countplot(df.Securities_Account)"
   ]
  },
  {
   "cell_type": "code",
   "execution_count": 49,
   "id": "bd497500",
   "metadata": {},
   "outputs": [
    {
     "data": {
      "text/plain": [
       "(2.4098647218383684,\n",
       " 0.12057278505742522,\n",
       " 1,\n",
       " array([[4048.112,  471.888],\n",
       "        [ 429.888,   50.112]]))"
      ]
     },
     "execution_count": 49,
     "metadata": {},
     "output_type": "execute_result"
    }
   ],
   "source": [
    "from scipy.stats import chi2_contingency\n",
    "comp=pd.crosstab(df.Personal_Loan,df.Securities_Account)\n",
    "chi2_contingency(comp,correction=False)"
   ]
  },
  {
   "cell_type": "code",
   "execution_count": 50,
   "id": "55ef9f69",
   "metadata": {},
   "outputs": [],
   "source": [
    "df.drop('Securities_Account',axis=1,inplace=True)"
   ]
  },
  {
   "cell_type": "code",
   "execution_count": 51,
   "id": "8425a303",
   "metadata": {},
   "outputs": [
    {
     "data": {
      "text/plain": [
       "Index(['Income', 'Family', 'CCAvg', 'Education', 'Mortgage', 'Personal_Loan',\n",
       "       'CD_Account', 'Online', 'CreditCard'],\n",
       "      dtype='object')"
      ]
     },
     "execution_count": 51,
     "metadata": {},
     "output_type": "execute_result"
    }
   ],
   "source": [
    "df.columns"
   ]
  },
  {
   "cell_type": "markdown",
   "id": "cfe2d2b6",
   "metadata": {},
   "source": [
    "# CD_Account"
   ]
  },
  {
   "cell_type": "code",
   "execution_count": 52,
   "id": "7a87d01a",
   "metadata": {},
   "outputs": [
    {
     "data": {
      "text/plain": [
       "0    4698\n",
       "1     302\n",
       "Name: CD_Account, dtype: int64"
      ]
     },
     "execution_count": 52,
     "metadata": {},
     "output_type": "execute_result"
    }
   ],
   "source": [
    "df.CD_Account.value_counts()"
   ]
  },
  {
   "cell_type": "code",
   "execution_count": 53,
   "id": "a2cb5c71",
   "metadata": {},
   "outputs": [
    {
     "name": "stderr",
     "output_type": "stream",
     "text": [
      "C:\\Users\\Siddiq\\anaconda3\\lib\\site-packages\\seaborn\\_decorators.py:36: FutureWarning: Pass the following variable as a keyword arg: x. From version 0.12, the only valid positional argument will be `data`, and passing other arguments without an explicit keyword will result in an error or misinterpretation.\n",
      "  warnings.warn(\n"
     ]
    },
    {
     "data": {
      "text/plain": [
       "<AxesSubplot:xlabel='CD_Account', ylabel='count'>"
      ]
     },
     "execution_count": 53,
     "metadata": {},
     "output_type": "execute_result"
    },
    {
     "data": {
      "image/png": "[encoded data removed]",
      "text/plain": [
       "<Figure size 432x288 with 1 Axes>"
      ]
     },
     "metadata": {
      "needs_background": "light"
     },
     "output_type": "display_data"
    }
   ],
   "source": [
    "sns.countplot(df.CD_Account)"
   ]
  },
  {
   "cell_type": "code",
   "execution_count": 54,
   "id": "e82ae341",
   "metadata": {},
   "outputs": [
    {
     "data": {
      "text/plain": [
       "(500.40189046908114,\n",
       " 7.771898331676633e-111,\n",
       " 1,\n",
       " array([[4246.992,  273.008],\n",
       "        [ 451.008,   28.992]]))"
      ]
     },
     "execution_count": 54,
     "metadata": {},
     "output_type": "execute_result"
    }
   ],
   "source": [
    "from scipy.stats import chi2_contingency\n",
    "comp=pd.crosstab(df.Personal_Loan,df.CD_Account)\n",
    "chi2_contingency(comp,correction=False)"
   ]
  },
  {
   "cell_type": "markdown",
   "id": "6af777db",
   "metadata": {},
   "source": [
    "# Online"
   ]
  },
  {
   "cell_type": "code",
   "execution_count": 55,
   "id": "a0b8dde1",
   "metadata": {},
   "outputs": [
    {
     "data": {
      "text/plain": [
       "1    2984\n",
       "0    2016\n",
       "Name: Online, dtype: int64"
      ]
     },
     "execution_count": 55,
     "metadata": {},
     "output_type": "execute_result"
    }
   ],
   "source": [
    "df.Online.value_counts()"
   ]
  },
  {
   "cell_type": "code",
   "execution_count": 56,
   "id": "07ec5027",
   "metadata": {},
   "outputs": [
    {
     "name": "stderr",
     "output_type": "stream",
     "text": [
      "C:\\Users\\Siddiq\\anaconda3\\lib\\site-packages\\seaborn\\_decorators.py:36: FutureWarning: Pass the following variable as a keyword arg: x. From version 0.12, the only valid positional argument will be `data`, and passing other arguments without an explicit keyword will result in an error or misinterpretation.\n",
      "  warnings.warn(\n"
     ]
    },
    {
     "data": {
      "text/plain": [
       "<AxesSubplot:xlabel='Online', ylabel='count'>"
      ]
     },
     "execution_count": 56,
     "metadata": {},
     "output_type": "execute_result"
    },
    {
     "data": {
      "image/png": "[encoded data removed]",
      "text/plain": [
       "<Figure size 432x288 with 1 Axes>"
      ]
     },
     "metadata": {
      "needs_background": "light"
     },
     "output_type": "display_data"
    }
   ],
   "source": [
    "sns.countplot(df.Online)"
   ]
  },
  {
   "cell_type": "code",
   "execution_count": 57,
   "id": "f4b77071",
   "metadata": {},
   "outputs": [
    {
     "data": {
      "text/plain": [
       "(0.197054830778904,\n",
       " 0.6571086782806848,\n",
       " 1,\n",
       " array([[1822.464, 2697.536],\n",
       "        [ 193.536,  286.464]]))"
      ]
     },
     "execution_count": 57,
     "metadata": {},
     "output_type": "execute_result"
    }
   ],
   "source": [
    "from scipy.stats import chi2_contingency\n",
    "comp=pd.crosstab(df.Personal_Loan,df.Online)\n",
    "chi2_contingency(comp,correction=False)"
   ]
  },
  {
   "cell_type": "code",
   "execution_count": 58,
   "id": "2eda0f00",
   "metadata": {},
   "outputs": [],
   "source": [
    "df.drop('Online',axis=1,inplace=True)"
   ]
  },
  {
   "cell_type": "code",
   "execution_count": 59,
   "id": "36b6b543",
   "metadata": {},
   "outputs": [
    {
     "data": {
      "text/plain": [
       "Index(['Income', 'Family', 'CCAvg', 'Education', 'Mortgage', 'Personal_Loan',\n",
       "       'CD_Account', 'CreditCard'],\n",
       "      dtype='object')"
      ]
     },
     "execution_count": 59,
     "metadata": {},
     "output_type": "execute_result"
    }
   ],
   "source": [
    "df.columns"
   ]
  },
  {
   "cell_type": "markdown",
   "id": "2743dbb7",
   "metadata": {},
   "source": [
    "# CreditCard"
   ]
  },
  {
   "cell_type": "code",
   "execution_count": 60,
   "id": "fa66284b",
   "metadata": {},
   "outputs": [
    {
     "data": {
      "text/plain": [
       "0    3530\n",
       "1    1470\n",
       "Name: CreditCard, dtype: int64"
      ]
     },
     "execution_count": 60,
     "metadata": {},
     "output_type": "execute_result"
    }
   ],
   "source": [
    "df.CreditCard.value_counts()"
   ]
  },
  {
   "cell_type": "code",
   "execution_count": 61,
   "id": "b26d3a8e",
   "metadata": {},
   "outputs": [
    {
     "name": "stderr",
     "output_type": "stream",
     "text": [
      "C:\\Users\\Siddiq\\anaconda3\\lib\\site-packages\\seaborn\\_decorators.py:36: FutureWarning: Pass the following variable as a keyword arg: x. From version 0.12, the only valid positional argument will be `data`, and passing other arguments without an explicit keyword will result in an error or misinterpretation.\n",
      "  warnings.warn(\n"
     ]
    },
    {
     "data": {
      "text/plain": [
       "<AxesSubplot:xlabel='CreditCard', ylabel='count'>"
      ]
     },
     "execution_count": 61,
     "metadata": {},
     "output_type": "execute_result"
    },
    {
     "data": {
      "image/png": "[encoded data removed]",
      "text/plain": [
       "<Figure size 432x288 with 1 Axes>"
      ]
     },
     "metadata": {
      "needs_background": "light"
     },
     "output_type": "display_data"
    }
   ],
   "source": [
    "sns.countplot(df.CreditCard)"
   ]
  },
  {
   "cell_type": "code",
   "execution_count": 62,
   "id": "f341b36b",
   "metadata": {},
   "outputs": [
    {
     "data": {
      "text/plain": [
       "(0.039242258946581565,\n",
       " 0.8429694927995713,\n",
       " 1,\n",
       " array([[3191.12, 1328.88],\n",
       "        [ 338.88,  141.12]]))"
      ]
     },
     "execution_count": 62,
     "metadata": {},
     "output_type": "execute_result"
    }
   ],
   "source": [
    "from scipy.stats import chi2_contingency\n",
    "comp=pd.crosstab(df.Personal_Loan,df.CreditCard)\n",
    "chi2_contingency(comp,correction=False)"
   ]
  },
  {
   "cell_type": "code",
   "execution_count": 63,
   "id": "56adb250",
   "metadata": {},
   "outputs": [],
   "source": [
    "df.drop('CreditCard',axis=1,inplace=True)"
   ]
  },
  {
   "cell_type": "code",
   "execution_count": null,
   "id": "cf707dff",
   "metadata": {},
   "outputs": [],
   "source": []
  },
  {
   "cell_type": "code",
   "execution_count": null,
   "id": "ee353a70",
   "metadata": {},
   "outputs": [],
   "source": []
  },
  {
   "cell_type": "markdown",
   "id": "a38b8056",
   "metadata": {},
   "source": [
    "# model"
   ]
  },
  {
   "cell_type": "code",
   "execution_count": 64,
   "id": "e4ef8c2b",
   "metadata": {},
   "outputs": [],
   "source": [
    "from statsmodels.stats.outliers_influence import variance_inflation_factor"
   ]
  },
  {
   "cell_type": "code",
   "execution_count": 65,
   "id": "d94aa619",
   "metadata": {},
   "outputs": [
    {
     "name": "stdout",
     "output_type": "stream",
     "text": [
      "<class 'pandas.core.frame.DataFrame'>\n",
      "RangeIndex: 5000 entries, 0 to 4999\n",
      "Data columns (total 7 columns):\n",
      " #   Column         Non-Null Count  Dtype  \n",
      "---  ------         --------------  -----  \n",
      " 0   Income         5000 non-null   int64  \n",
      " 1   Family         5000 non-null   int64  \n",
      " 2   CCAvg          5000 non-null   float64\n",
      " 3   Education      5000 non-null   int64  \n",
      " 4   Mortgage       5000 non-null   int64  \n",
      " 5   Personal_Loan  5000 non-null   int64  \n",
      " 6   CD_Account     5000 non-null   int64  \n",
      "dtypes: float64(1), int64(6)\n",
      "memory usage: 273.6 KB\n"
     ]
    }
   ],
   "source": [
    "df.info()"
   ]
  },
  {
   "cell_type": "code",
   "execution_count": 66,
   "id": "54302319",
   "metadata": {},
   "outputs": [],
   "source": [
    "x=df.iloc[:,[0,1,2,3,4]]"
   ]
  },
  {
   "cell_type": "code",
   "execution_count": 67,
   "id": "902d95b1",
   "metadata": {},
   "outputs": [
    {
     "name": "stdout",
     "output_type": "stream",
     "text": [
      "     feature       VIF\n",
      "0     Income  5.344242\n",
      "1     Family  3.666258\n",
      "2      CCAvg  3.824800\n",
      "3  Education  3.722871\n",
      "4   Mortgage  1.365445\n"
     ]
    }
   ],
   "source": [
    "vif_data=pd.DataFrame()\n",
    "vif_data['feature']=x.columns\n",
    "vif_data['VIF']=[variance_inflation_factor(x.values,i)\n",
    "                for i in range(len(x.columns))]\n",
    "print(vif_data)"
   ]
  },
  {
   "cell_type": "code",
   "execution_count": 68,
   "id": "46579799",
   "metadata": {},
   "outputs": [
    {
     "name": "stdout",
     "output_type": "stream",
     "text": [
      "<class 'pandas.core.frame.DataFrame'>\n",
      "RangeIndex: 5000 entries, 0 to 4999\n",
      "Data columns (total 7 columns):\n",
      " #   Column         Non-Null Count  Dtype  \n",
      "---  ------         --------------  -----  \n",
      " 0   Income         5000 non-null   int64  \n",
      " 1   Family         5000 non-null   int64  \n",
      " 2   CCAvg          5000 non-null   float64\n",
      " 3   Education      5000 non-null   int64  \n",
      " 4   Mortgage       5000 non-null   int64  \n",
      " 5   Personal_Loan  5000 non-null   int64  \n",
      " 6   CD_Account     5000 non-null   int64  \n",
      "dtypes: float64(1), int64(6)\n",
      "memory usage: 273.6 KB\n"
     ]
    }
   ],
   "source": [
    "df.info()"
   ]
  },
  {
   "cell_type": "code",
   "execution_count": 69,
   "id": "b4b757ed",
   "metadata": {},
   "outputs": [],
   "source": [
    "from sklearn.linear_model import LogisticRegression"
   ]
  },
  {
   "cell_type": "code",
   "execution_count": 70,
   "id": "cb52faa4",
   "metadata": {},
   "outputs": [],
   "source": [
    "x=df.loc[:,df.columns!='Personal_Loan']\n",
    "y=df.loc[:,df.columns=='Personal_Loan']"
   ]
  },
  {
   "cell_type": "code",
   "execution_count": 71,
   "id": "f359102e",
   "metadata": {},
   "outputs": [
    {
     "name": "stderr",
     "output_type": "stream",
     "text": [
      "C:\\Users\\Siddiq\\anaconda3\\lib\\site-packages\\sklearn\\utils\\validation.py:993: DataConversionWarning: A column-vector y was passed when a 1d array was expected. Please change the shape of y to (n_samples, ), for example using ravel().\n",
      "  y = column_or_1d(y, warn=True)\n"
     ]
    },
    {
     "data": {
      "text/plain": [
       "array([[4.43204166e-02, 4.92516340e-01, 9.23465930e-02, 1.28209827e+00,\n",
       "        4.37966212e-04, 2.10793244e+00]])"
      ]
     },
     "execution_count": 71,
     "metadata": {},
     "output_type": "execute_result"
    }
   ],
   "source": [
    "model1=LogisticRegression(solver='liblinear',random_state=0)\n",
    "model1.fit(x,y)\n",
    "model1.intercept_\n",
    "model1.coef_"
   ]
  },
  {
   "cell_type": "code",
   "execution_count": 72,
   "id": "53e63df7",
   "metadata": {},
   "outputs": [],
   "source": [
    "y_pred=model1.predict(x)"
   ]
  },
  {
   "cell_type": "code",
   "execution_count": 73,
   "id": "f15e7c76",
   "metadata": {},
   "outputs": [
    {
     "name": "stdout",
     "output_type": "stream",
     "text": [
      "[[4461   59]\n",
      " [ 206  274]]\n"
     ]
    }
   ],
   "source": [
    "from sklearn import metrics\n",
    "cm=metrics.confusion_matrix(y,y_pred)\n",
    "print(cm)"
   ]
  },
  {
   "cell_type": "code",
   "execution_count": 74,
   "id": "fa5d99f4",
   "metadata": {},
   "outputs": [
    {
     "data": {
      "text/plain": [
       "0.947"
      ]
     },
     "execution_count": 74,
     "metadata": {},
     "output_type": "execute_result"
    }
   ],
   "source": [
    "model1.score(x,y)"
   ]
  },
  {
   "cell_type": "code",
   "execution_count": 75,
   "id": "cfa68e9f",
   "metadata": {},
   "outputs": [],
   "source": [
    "from sklearn.metrics import classification_report"
   ]
  },
  {
   "cell_type": "code",
   "execution_count": 76,
   "id": "1ec62352",
   "metadata": {},
   "outputs": [
    {
     "name": "stdout",
     "output_type": "stream",
     "text": [
      "              precision    recall  f1-score   support\n",
      "\n",
      "           0       0.96      0.99      0.97      4520\n",
      "           1       0.82      0.57      0.67       480\n",
      "\n",
      "    accuracy                           0.95      5000\n",
      "   macro avg       0.89      0.78      0.82      5000\n",
      "weighted avg       0.94      0.95      0.94      5000\n",
      "\n"
     ]
    }
   ],
   "source": [
    "print(classification_report(y,y_pred))"
   ]
  },
  {
   "cell_type": "code",
   "execution_count": 77,
   "id": "97453ecf",
   "metadata": {},
   "outputs": [],
   "source": [
    "from sklearn.metrics import roc_curve,auc,roc_auc_score"
   ]
  },
  {
   "cell_type": "code",
   "execution_count": 78,
   "id": "5992b436",
   "metadata": {},
   "outputs": [
    {
     "name": "stdout",
     "output_type": "stream",
     "text": [
      "0.9567468657817109\n"
     ]
    }
   ],
   "source": [
    "y_pred_prob=model1.predict_proba(x)\n",
    "fpr,tpr,thresholds=roc_curve(df['Personal_Loan'],y_pred_prob[:,1])\n",
    "roc_auc=auc(fpr,tpr)\n",
    "print(roc_auc)"
   ]
  },
  {
   "cell_type": "code",
   "execution_count": 79,
   "id": "93fd1f18",
   "metadata": {},
   "outputs": [
    {
     "data": {
      "image/png": "[encoded data removed]",
      "text/plain": [
       "<Figure size 432x288 with 1 Axes>"
      ]
     },
     "metadata": {
      "needs_background": "light"
     },
     "output_type": "display_data"
    }
   ],
   "source": [
    "import matplotlib.pyplot as plt\n",
    "plt.title('ROC curve for logreg:liblinear')\n",
    "plt.xlabel('fpr(1-specificity)')\n",
    "plt.ylabel('tpr(sensitivity)')\n",
    "plt.plot([0,1],[0,1],'r--')\n",
    "plt.xlim([0,1])\n",
    "plt.ylim([0,1])\n",
    "plt.plot(fpr,tpr,label='AUC = '+str(roc_auc))\n",
    "plt.legend(loc=4)\n",
    "plt.show()"
   ]
  },
  {
   "cell_type": "markdown",
   "id": "924785f8",
   "metadata": {},
   "source": [
    "# Smote"
   ]
  },
  {
   "cell_type": "markdown",
   "id": "e9d4ab53",
   "metadata": {},
   "source": []
  },
  {
   "cell_type": "code",
   "execution_count": 80,
   "id": "4d03c58e",
   "metadata": {},
   "outputs": [
    {
     "data": {
      "text/plain": [
       "0    4520\n",
       "1     480\n",
       "Name: Personal_Loan, dtype: int64"
      ]
     },
     "execution_count": 80,
     "metadata": {},
     "output_type": "execute_result"
    }
   ],
   "source": [
    "df.Personal_Loan.value_counts()"
   ]
  },
  {
   "cell_type": "code",
   "execution_count": 81,
   "id": "cb17e2aa",
   "metadata": {},
   "outputs": [],
   "source": [
    "nolon=df[df.Personal_Loan==0]\n",
    "lon=df[df.Personal_Loan==1]"
   ]
  },
  {
   "cell_type": "code",
   "execution_count": 82,
   "id": "03e75282",
   "metadata": {},
   "outputs": [],
   "source": [
    "from sklearn.utils import resample"
   ]
  },
  {
   "cell_type": "code",
   "execution_count": 83,
   "id": "17387aa1",
   "metadata": {},
   "outputs": [],
   "source": [
    "lon_oversample=resample(lon,replace=True,n_samples=len(nolon),random_state=27)"
   ]
  },
  {
   "cell_type": "code",
   "execution_count": 84,
   "id": "10050d21",
   "metadata": {},
   "outputs": [
    {
     "data": {
      "text/plain": [
       "0    4520\n",
       "1    4520\n",
       "Name: Personal_Loan, dtype: int64"
      ]
     },
     "execution_count": 84,
     "metadata": {},
     "output_type": "execute_result"
    }
   ],
   "source": [
    "dfsmote=pd.concat([nolon,lon_oversample])\n",
    "dfsmote.Personal_Loan.value_counts()"
   ]
  },
  {
   "cell_type": "code",
   "execution_count": 85,
   "id": "2d30bae5",
   "metadata": {},
   "outputs": [
    {
     "data": {
      "text/plain": [
       "Personal_Loan\n",
       "0                4520\n",
       "1                4520\n",
       "dtype: int64"
      ]
     },
     "execution_count": 85,
     "metadata": {},
     "output_type": "execute_result"
    }
   ],
   "source": [
    "x2=dfsmote.loc[:,dfsmote.columns!='Personal_Loan']\n",
    "y2=dfsmote.loc[:,dfsmote.columns=='Personal_Loan']\n",
    "y2.value_counts()"
   ]
  },
  {
   "cell_type": "code",
   "execution_count": 86,
   "id": "89128fa8",
   "metadata": {},
   "outputs": [
    {
     "name": "stderr",
     "output_type": "stream",
     "text": [
      "C:\\Users\\Siddiq\\anaconda3\\lib\\site-packages\\sklearn\\utils\\validation.py:993: DataConversionWarning: A column-vector y was passed when a 1d array was expected. Please change the shape of y to (n_samples, ), for example using ravel().\n",
      "  y = column_or_1d(y, warn=True)\n"
     ]
    },
    {
     "data": {
      "text/plain": [
       "LogisticRegression(random_state=0, solver='liblinear')"
      ]
     },
     "execution_count": 86,
     "metadata": {},
     "output_type": "execute_result"
    }
   ],
   "source": [
    "model2=LogisticRegression(solver='liblinear',random_state=0)\n",
    "model2.fit(x2,y2)"
   ]
  },
  {
   "cell_type": "code",
   "execution_count": 87,
   "id": "fe7844fa",
   "metadata": {},
   "outputs": [
    {
     "data": {
      "text/plain": [
       "array([-9.79794804])"
      ]
     },
     "execution_count": 87,
     "metadata": {},
     "output_type": "execute_result"
    }
   ],
   "source": [
    "model2.intercept_\n"
   ]
  },
  {
   "cell_type": "code",
   "execution_count": 88,
   "id": "294650fc",
   "metadata": {},
   "outputs": [
    {
     "data": {
      "text/plain": [
       "array([[4.98359934e-02, 5.39707741e-01, 2.06739584e-01, 1.14159357e+00,\n",
       "        2.74034714e-04, 2.47130671e+00]])"
      ]
     },
     "execution_count": 88,
     "metadata": {},
     "output_type": "execute_result"
    }
   ],
   "source": [
    "model2.coef_"
   ]
  },
  {
   "cell_type": "code",
   "execution_count": 89,
   "id": "9014d07e",
   "metadata": {},
   "outputs": [],
   "source": [
    "y_pred2=model2.predict(x2)"
   ]
  },
  {
   "cell_type": "code",
   "execution_count": 90,
   "id": "4155f526",
   "metadata": {},
   "outputs": [
    {
     "name": "stdout",
     "output_type": "stream",
     "text": [
      "[[4018  502]\n",
      " [ 433 4087]]\n"
     ]
    }
   ],
   "source": [
    "from sklearn import metrics\n",
    "cm2=metrics.confusion_matrix(y2,y_pred2)\n",
    "print(cm2)"
   ]
  },
  {
   "cell_type": "code",
   "execution_count": 91,
   "id": "143ce816",
   "metadata": {},
   "outputs": [
    {
     "data": {
      "text/plain": [
       "0.896570796460177"
      ]
     },
     "execution_count": 91,
     "metadata": {},
     "output_type": "execute_result"
    }
   ],
   "source": [
    "model2.score(x2,y2)"
   ]
  },
  {
   "cell_type": "code",
   "execution_count": 92,
   "id": "563687a8",
   "metadata": {},
   "outputs": [
    {
     "name": "stdout",
     "output_type": "stream",
     "text": [
      "              precision    recall  f1-score   support\n",
      "\n",
      "           0       0.90      0.89      0.90      4520\n",
      "           1       0.89      0.90      0.90      4520\n",
      "\n",
      "    accuracy                           0.90      9040\n",
      "   macro avg       0.90      0.90      0.90      9040\n",
      "weighted avg       0.90      0.90      0.90      9040\n",
      "\n"
     ]
    }
   ],
   "source": [
    "print(classification_report(y2,y_pred2))"
   ]
  },
  {
   "cell_type": "code",
   "execution_count": 93,
   "id": "24a5f185",
   "metadata": {},
   "outputs": [
    {
     "name": "stdout",
     "output_type": "stream",
     "text": [
      "0.9555684665987939\n"
     ]
    }
   ],
   "source": [
    "y_pred_prob2=model2.predict_proba(x2)\n",
    "fpr2,tpr2,thresholds2=roc_curve(dfsmote['Personal_Loan'],y_pred_prob2[:,1])\n",
    "roc_auc2=auc(fpr2,tpr2)\n",
    "print(roc_auc2)"
   ]
  },
  {
   "cell_type": "code",
   "execution_count": 94,
   "id": "67e9bab0",
   "metadata": {},
   "outputs": [
    {
     "data": {
      "image/png": "[encoded data removed]",
      "text/plain": [
       "<Figure size 432x288 with 1 Axes>"
      ]
     },
     "metadata": {
      "needs_background": "light"
     },
     "output_type": "display_data"
    }
   ],
   "source": [
    "plt.title('ROC curve for logreg:liblinear')\n",
    "plt.xlabel('fpr(1-specificity)')\n",
    "plt.ylabel('tpr(sensitivity)')\n",
    "plt.plot([0,1],[0,1],'r--')\n",
    "plt.xlim([0,1])\n",
    "plt.ylim([0,1])\n",
    "plt.plot(fpr2,tpr2,label='AUC = '+str(roc_auc2))\n",
    "plt.legend(loc=4)\n",
    "plt.show()"
   ]
  },
  {
   "cell_type": "markdown",
   "id": "b62d6863",
   "metadata": {},
   "source": [
    "# Decision Tree"
   ]
  },
  {
   "cell_type": "code",
   "execution_count": 95,
   "id": "1ecbd930",
   "metadata": {},
   "outputs": [],
   "source": [
    "from sklearn.model_selection import train_test_split"
   ]
  },
  {
   "cell_type": "code",
   "execution_count": 96,
   "id": "ed2cb24b",
   "metadata": {},
   "outputs": [],
   "source": [
    "x_train,x_test,y_train,y_test=train_test_split(x2,y2,test_size=0.2, random_state=42)"
   ]
  },
  {
   "cell_type": "code",
   "execution_count": 97,
   "id": "a756466a",
   "metadata": {},
   "outputs": [],
   "source": [
    "from sklearn.tree import DecisionTreeClassifier\n",
    "tree=DecisionTreeClassifier(random_state=40)\n",
    "tree.fit(x_train,y_train)\n",
    "y_train_pred=tree.predict(x_train)\n",
    "y_test_pred=tree.predict(x_test)"
   ]
  },
  {
   "cell_type": "code",
   "execution_count": 98,
   "id": "d29ca3f0",
   "metadata": {},
   "outputs": [
    {
     "name": "stdout",
     "output_type": "stream",
     "text": [
      "1.0\n",
      "0.99\n"
     ]
    }
   ],
   "source": [
    "from sklearn.metrics import accuracy_score\n",
    "print(round(accuracy_score(y_train,y_train_pred),2))\n",
    "print(round(accuracy_score(y_test,y_test_pred),2))"
   ]
  },
  {
   "cell_type": "code",
   "execution_count": 99,
   "id": "6a936042",
   "metadata": {},
   "outputs": [],
   "source": [
    "depth=[1,2,3,4,5,6,7,8,9]\n",
    "accuracy_train,accuracy_test=[],[]\n",
    "for i in depth:\n",
    "    tree=DecisionTreeClassifier(max_depth=i)\n",
    "    tree.fit(x_train,y_train)\n",
    "    y_train_pred1=tree.predict(x_train)\n",
    "    y_test_pred1=tree.predict(x_test)\n",
    "    accuracy_train.append(accuracy_score(y_train,y_train_pred1))\n",
    "    accuracy_test.append(accuracy_score(y_test,y_test_pred1))"
   ]
  },
  {
   "cell_type": "code",
   "execution_count": 100,
   "id": "1e9ed505",
   "metadata": {},
   "outputs": [
    {
     "data": {
      "image/png": "[encoded data removed]",
      "text/plain": [
       "<Figure size 1008x504 with 1 Axes>"
      ]
     },
     "metadata": {
      "needs_background": "light"
     },
     "output_type": "display_data"
    }
   ],
   "source": [
    "plt.figure(figsize=(14,7))\n",
    "sns.lineplot(y=accuracy_train,x=depth,label='TrainAccuracy')\n",
    "sns.lineplot(y=accuracy_test,x=depth,label='TestAccuracy')\n",
    "plt.title('Max Depth:Classification')\n",
    "plt.show()"
   ]
  },
  {
   "cell_type": "code",
   "execution_count": null,
   "id": "64e9c385",
   "metadata": {},
   "outputs": [],
   "source": []
  }
 ],
 "metadata": {
  "kernelspec": {
   "display_name": "Python 3 (ipykernel)",
   "language": "python",
   "name": "python3"
  },
  "language_info": {
   "codemirror_mode": {
    "name": "ipython",
    "version": 3
   },
   "file_extension": ".py",
   "mimetype": "text/x-python",
   "name": "python",
   "nbconvert_exporter": "python",
   "pygments_lexer": "ipython3",
   "version": "3.9.12"
  }
 },
 "nbformat": 4,
 "nbformat_minor": 5
}
